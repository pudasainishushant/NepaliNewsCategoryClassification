{
 "cells": [
  {
   "cell_type": "code",
   "execution_count": 1,
   "id": "1ce0c43d",
   "metadata": {},
   "outputs": [
    {
     "name": "stderr",
     "output_type": "stream",
     "text": [
      "2021-12-31 10:24:12.458658: W tensorflow/stream_executor/platform/default/dso_loader.cc:64] Could not load dynamic library 'libcudart.so.11.0'; dlerror: libcudart.so.11.0: cannot open shared object file: No such file or directory\n",
      "2021-12-31 10:24:12.458724: I tensorflow/stream_executor/cuda/cudart_stub.cc:29] Ignore above cudart dlerror if you do not have a GPU set up on your machine.\n"
     ]
    }
   ],
   "source": [
    "import torch\n",
    "import numpy as np \n",
    "import pandas as pd \n",
    "from transformers import BertTokenizer, BertModel, BertForMaskedLM, AutoTokenizer, AutoModelForMaskedLM\n",
    "from scipy.spatial.distance import cosine \n",
    "import tokenizers \n",
    "import pandas as pd \n",
    "from sklearn.model_selection import train_test_split\n",
    "from sklearn.metrics import classification_report, confusion_matrix, f1_score, accuracy_score\n",
    "from nltk.corpus import stopwords\n",
    "from sklearn.svm import SVC\n",
    "from sklearn.naive_bayes import GaussianNB\n",
    "from sklearn.ensemble import RandomForestClassifier, GradientBoostingClassifier\n",
    "from sklearn.decomposition import PCA\n",
    "from sklearn.preprocessing import StandardScaler\n",
    "import numpy\n",
    "import os \n",
    "import re\n"
   ]
  },
  {
   "cell_type": "code",
   "execution_count": 46,
   "id": "98daed37",
   "metadata": {},
   "outputs": [],
   "source": [
    "# vocab_path = os.getcwd()+'/bert_model/vocab_low_data.txt'\n",
    "# model_path = os.getcwd()+'/blabla/'"
   ]
  },
  {
   "cell_type": "code",
   "execution_count": 47,
   "id": "4c99f70b",
   "metadata": {},
   "outputs": [],
   "source": [
    "# vocab_path"
   ]
  },
  {
   "cell_type": "code",
   "execution_count": 48,
   "id": "e86375ce",
   "metadata": {},
   "outputs": [],
   "source": [
    "# tokenizers = BertTokenizer.from_pretrained(vocab_path)\n",
    "# model = BertForMaskedLM.from_pretrained(pretrained_model_name_or_path=model_path, return_dict = True, output_hidden_states = True)"
   ]
  },
  {
   "cell_type": "code",
   "execution_count": 2,
   "id": "1b519b36",
   "metadata": {},
   "outputs": [],
   "source": [
    "model = AutoModelForMaskedLM.from_pretrained(\"Shushant/nepaliBERT\", output_hidden_states = True, return_dict = True, output_attentions = True)"
   ]
  },
  {
   "cell_type": "code",
   "execution_count": 3,
   "id": "7dc414c6",
   "metadata": {},
   "outputs": [],
   "source": [
    "tokenizers = AutoTokenizer.from_pretrained(\"Shushant/nepaliBERT\")"
   ]
  },
  {
   "cell_type": "code",
   "execution_count": 6,
   "id": "1871cd20",
   "metadata": {
    "scrolled": true
   },
   "outputs": [
    {
     "data": {
      "text/plain": [
       "['क',\n",
       " 'मौ',\n",
       " '##ज',\n",
       " '##दा',\n",
       " 'लोक',\n",
       " '##तान',\n",
       " '##तर',\n",
       " '##िक',\n",
       " 'वय',\n",
       " '##वस',\n",
       " '##था',\n",
       " 'राज',\n",
       " '##य',\n",
       " 'पन',\n",
       " '##ः',\n",
       " '##सर',\n",
       " '##चना',\n",
       " '##सग',\n",
       " 'जोडिएका',\n",
       " 'हिजोका',\n",
       " 'सवाल',\n",
       " '##हर',\n",
       " '##लाई',\n",
       " 'यथा',\n",
       " '##स',\n",
       " '##थिति',\n",
       " '##मा',\n",
       " 'छोड',\n",
       " '##र',\n",
       " 'सबल',\n",
       " 'होला',\n",
       " '?',\n",
       " 'ठ',\n",
       " '##लो',\n",
       " 'सख',\n",
       " '##या',\n",
       " 'सडकमा',\n",
       " 'उतार',\n",
       " '##न',\n",
       " 'नसक',\n",
       " '##नको',\n",
       " 'पर',\n",
       " '##तिर',\n",
       " '##ोध',\n",
       " '##ी',\n",
       " 'बोली',\n",
       " 'ब',\n",
       " '##वास',\n",
       " '##तामा',\n",
       " 'परि',\n",
       " '##रहदा',\n",
       " 'मौ',\n",
       " '##ज',\n",
       " '##दा',\n",
       " 'वय',\n",
       " '##वस',\n",
       " '##था',\n",
       " '##बाट',\n",
       " 'नया',\n",
       " '##य',\n",
       " 'र',\n",
       " 'समता',\n",
       " 'सम',\n",
       " '##भव',\n",
       " 'छ',\n",
       " 'कसरी',\n",
       " 'भन',\n",
       " '##न',\n",
       " 'सकिएला']"
      ]
     },
     "execution_count": 6,
     "metadata": {},
     "output_type": "execute_result"
    }
   ],
   "source": [
    "tokenizers.tokenize(\"के मौजुदा लोकतान्त्रिक व्यवस्था राज्य पुनःसंरचनासँग जोडिएका हिजोका सवालहरूलाई यथास्थितिमा छोडेर सबल होला ? ठूलो संख्या सडकमा उतार्न नसक्नेको प्रतिरोधी बोली बेवास्तामा परिरहँदा मौजुदा व्यवस्थाबाट न्याय र समता सम्भव छ कसरी भन्न सकिएला \")"
   ]
  },
  {
   "cell_type": "code",
   "execution_count": 52,
   "id": "00ca9f25",
   "metadata": {},
   "outputs": [],
   "source": [
    "# text = 'अनि तेस्रो चिन्ता मौसम परिवर्तनले हिमशिखरहरूमा परेका आघातसँगसँगै सिमानावारिपारि नदीले ल्याएका प्रकोपहरू कसरी सम्हाल्ने'\n",
    "# marked_text = \" [CLS] \"+text+\" [SEP] \"\n",
    "# tokenized_text = tokenizer.tokenize(marked_text)\n",
    "# indexed_tokens = tokenizer.convert_tokens_to_ids(tokenized_text)\n",
    "# segments_ids = [1] * len(indexed_tokens)\n",
    "\n",
    "# tokens_tensors = torch.tensor([indexed_tokens])\n",
    "# segments_tensors = torch.tensor([segments_ids])"
   ]
  },
  {
   "cell_type": "code",
   "execution_count": 53,
   "id": "88a853e8",
   "metadata": {},
   "outputs": [],
   "source": [
    "# with torch.no_grad():\n",
    "#     outputs = model(tokens_tensors, segments_tensors)\n",
    "#     hidden_states = outputs.hidden_states\n",
    "# #     print(hidden_states[-1])\n",
    "#     token_embeddings = hidden_states[-1]\n",
    "    \n",
    "#     token_embeddings = torch.squeeze(token_embeddings, dim = 0)\n",
    "    \n",
    "#     list_token_embeddings = [token_embed.tolist() for token_embed in token_embeddings]\n",
    "#     print(list_token_embeddings)"
   ]
  },
  {
   "cell_type": "code",
   "execution_count": null,
   "id": "6fc8c04e",
   "metadata": {},
   "outputs": [],
   "source": []
  },
  {
   "cell_type": "code",
   "execution_count": 13,
   "id": "06bc3947",
   "metadata": {},
   "outputs": [],
   "source": [
    "texts = ['तर','दुधमा तर बसेन|','तिम्रो घर आउन मन लाग्छ तर अल्छि लाग्छ']"
   ]
  },
  {
   "cell_type": "code",
   "execution_count": 14,
   "id": "5cd86297",
   "metadata": {},
   "outputs": [],
   "source": [
    "def bert_text_preparation(text, tokenizer ):\n",
    "    \"\"\"Preparing input for BERT\"\"\"\n",
    "    \n",
    "    marked_text = \" [CLS] \" + text + \" [SEP] \"\n",
    "    tokenized_text = tokenizer.tokenize(marked_text)\n",
    "    indexed_tokens = tokenizer.convert_tokens_to_ids(tokenized_text)\n",
    "    segments_ids = [1] * len(indexed_tokens) \n",
    "    \n",
    "    # Convert inputs to Pytorch tensors\n",
    "    tokens_tensors = torch.tensor([indexed_tokens])\n",
    "    segments_tensors = torch.tensor([segments_ids])\n",
    "    \n",
    "    return tokenized_text, tokens_tensors, segments_tensors"
   ]
  },
  {
   "cell_type": "code",
   "execution_count": 15,
   "id": "a70ff12b",
   "metadata": {},
   "outputs": [],
   "source": [
    "def get_bert_embeddings(tokens_tensor, segments_tensors, model):\n",
    "    # Gradient claculation id disabled \n",
    "    # Model is in inference mode\n",
    "    \n",
    "    with torch.no_grad():\n",
    "        outputs = model(tokens_tensor, segments_tensors)\n",
    "        # removing the first hidden state\n",
    "        # the first state is the input state \n",
    "        hidden_states = outputs.hidden_states\n",
    "    \n",
    "    # Getting embeddings from final Bert Layer\n",
    "    tokens_embeddings = hidden_states[-1]\n",
    "    # Collasping the tensor into 1-dimension \n",
    "    tokens_embeddings = torch.squeeze(tokens_embeddings, dim = 0)\n",
    "    # Converting torchtensors to lists \n",
    "    list_token_embeddings = [token_embed.tolist() for token_embed in tokens_embeddings]\n",
    "    \n",
    "    return list_token_embeddings "
   ]
  },
  {
   "cell_type": "code",
   "execution_count": 16,
   "id": "03d8c108",
   "metadata": {},
   "outputs": [],
   "source": [
    "# tokenized_text, tokens_tensors, segments_tensors = bert_text_preparation(text, tokenizer)\n",
    "# target_word_embeddings = []\n",
    "\n",
    "# for text in texts:\n",
    "#     tokenized_text, tokens_tensors, segments_tensors = bert_text_preparation(text, tokenizer)\n",
    "#     list_token_embeddings = get_bert_embeddings(tokens_tensors, segments_tensors, model)\n",
    "#     ## list_token_embeddings has embeddings of the given words\n",
    "# #     word_index = tokenized_text.index('तर')\n",
    "#     word_embeddings = [list_token_embeddings[token] for token in tokenized_text]\n",
    "# #     word_embedding = list_token_embeddings[word_index]\n",
    "# #     print(word_embedding)\n",
    "# #     target_word_embeddings.append(word_embedding)"
   ]
  },
  {
   "cell_type": "code",
   "execution_count": 17,
   "id": "a1afd4cc",
   "metadata": {},
   "outputs": [],
   "source": [
    "# tokenized_text"
   ]
  },
  {
   "cell_type": "code",
   "execution_count": 18,
   "id": "1caf3be4",
   "metadata": {},
   "outputs": [],
   "source": [
    "# type(tokenized_text[0])"
   ]
  },
  {
   "cell_type": "code",
   "execution_count": 19,
   "id": "9d4db1a5",
   "metadata": {
    "scrolled": false
   },
   "outputs": [],
   "source": [
    "target_word_embeddings = []\n",
    "\n",
    "for text in texts:\n",
    "    tokenized_text, tokens_tensors, segments_tensors = bert_text_preparation(text, tokenizers)\n",
    "    list_token_embeddings = get_bert_embeddings(tokens_tensors, segments_tensors, model)\n",
    "#     print(len(list_token_embeddings))\n",
    "    ## list_token_embeddings has embeddings of the given words\n",
    "    word_index = tokenized_text.index('तर')\n",
    "    word_embedding = list_token_embeddings[word_index]\n",
    "#     print(word_embedding)\n",
    "    target_word_embeddings.append(word_embedding)"
   ]
  },
  {
   "cell_type": "code",
   "execution_count": 20,
   "id": "9c79f53c",
   "metadata": {},
   "outputs": [
    {
     "data": {
      "text/plain": [
       "False"
      ]
     },
     "execution_count": 20,
     "metadata": {},
     "output_type": "execute_result"
    }
   ],
   "source": [
    "target_word_embeddings[0] == target_word_embeddings[1]"
   ]
  },
  {
   "cell_type": "code",
   "execution_count": null,
   "id": "eeb28025",
   "metadata": {},
   "outputs": [],
   "source": []
  },
  {
   "cell_type": "code",
   "execution_count": 21,
   "id": "0578cc53",
   "metadata": {},
   "outputs": [
    {
     "data": {
      "text/plain": [
       "3"
      ]
     },
     "execution_count": 21,
     "metadata": {},
     "output_type": "execute_result"
    }
   ],
   "source": [
    "len(target_word_embeddings)"
   ]
  },
  {
   "cell_type": "code",
   "execution_count": 22,
   "id": "e5144fea",
   "metadata": {},
   "outputs": [],
   "source": [
    "# list_of_distances = []\n",
    "# for text1, embed1 in zip(texts, target_word_embeddings):\n",
    "#     for text2, embed2 in zip(texts, target_word_embeddings):\n",
    "#         cos_dist = 1 - cosine(embed1,embed2)\n",
    "#         list_of_distances.append([text1, text2, cos_dist])\n",
    "\n",
    "\n",
    "# distances_df = pd.DataFrame(list_of_distances, columns = ['text1','text2','distance'])\n"
   ]
  },
  {
   "cell_type": "code",
   "execution_count": 7,
   "id": "07d31ba6",
   "metadata": {},
   "outputs": [],
   "source": [
    "df = pd.read_csv(\"finalData.csv\")"
   ]
  },
  {
   "cell_type": "code",
   "execution_count": 8,
   "id": "5b9010bc",
   "metadata": {},
   "outputs": [],
   "source": [
    "# for txt in df['text'].values:\n",
    "#     print(len(txt.split('|')))"
   ]
  },
  {
   "cell_type": "code",
   "execution_count": 9,
   "id": "57168ec5",
   "metadata": {},
   "outputs": [],
   "source": [
    "# def get_word_embeddings(text):\n",
    "#     tokenizer = tokenizers\n",
    "#     tokenized_text, tokens_tensors, segments_tensors = bert_text_preparation(text, tokenizer)\n",
    "#     list_token_embeddings = get_bert_embeddings(tokens_tensors, segments_tensors, model)\n",
    "#     ## list_token_embeddings has embeddings of the given words\n",
    "#     return list_token_embeddings"
   ]
  },
  {
   "cell_type": "code",
   "execution_count": 10,
   "id": "36144615",
   "metadata": {},
   "outputs": [],
   "source": [
    "stopwords= stopwords.words(\"nepali\")"
   ]
  },
  {
   "cell_type": "code",
   "execution_count": 11,
   "id": "2163997b",
   "metadata": {},
   "outputs": [],
   "source": [
    "words = ['अक्सर','आदि','कसरी','अन्तर्गत','अर्थात','अर्थात्','अलग','आयो','उदाहरण','एकदम','राम्रो','बिरुद्ध','बिशेष']"
   ]
  },
  {
   "cell_type": "code",
   "execution_count": 12,
   "id": "67268e98",
   "metadata": {},
   "outputs": [],
   "source": [
    "stopwords = list(set(stopwords).difference(set(words)))"
   ]
  },
  {
   "cell_type": "code",
   "execution_count": 13,
   "id": "af7b34a1",
   "metadata": {},
   "outputs": [],
   "source": [
    "def clean_text(text):\n",
    "    text = text.split(' ')\n",
    "    clean_text_list = []\n",
    "    for word in text:\n",
    "        if word not in stopwords:\n",
    "            clean_text_list.append(word)\n",
    "    clean_text = ' '.join(clean_text_list)\n",
    "    txt = re.sub(r\"[|a-zA-z.'#0-9@,:?'\\u200b\\u200c\\u200d!/&~-]\",'',clean_text)\n",
    "    \n",
    "    return txt"
   ]
  },
  {
   "cell_type": "code",
   "execution_count": 14,
   "id": "05ec9fd9",
   "metadata": {},
   "outputs": [
    {
     "data": {
      "text/plain": [
       "'घाम जति लग्यो हामीलाई तेती राम्रो '"
      ]
     },
     "execution_count": 14,
     "metadata": {},
     "output_type": "execute_result"
    }
   ],
   "source": [
    "clean_text(\"घाम जति लग्यो हामीलाई तेती राम्रो हुन्छ \")"
   ]
  },
  {
   "cell_type": "code",
   "execution_count": 15,
   "id": "61c1b1dd",
   "metadata": {},
   "outputs": [],
   "source": [
    "# df['text'] = df['text'].apply(clean_text)"
   ]
  },
  {
   "cell_type": "code",
   "execution_count": null,
   "id": "d3b2275f",
   "metadata": {},
   "outputs": [],
   "source": []
  },
  {
   "cell_type": "code",
   "execution_count": 16,
   "id": "ffb159d4",
   "metadata": {},
   "outputs": [],
   "source": [
    "# distances_df[distances_df.text1 == 'तर']"
   ]
  },
  {
   "cell_type": "code",
   "execution_count": 17,
   "id": "c3dd1093",
   "metadata": {},
   "outputs": [
    {
     "data": {
      "text/html": [
       "<div>\n",
       "<style scoped>\n",
       "    .dataframe tbody tr th:only-of-type {\n",
       "        vertical-align: middle;\n",
       "    }\n",
       "\n",
       "    .dataframe tbody tr th {\n",
       "        vertical-align: top;\n",
       "    }\n",
       "\n",
       "    .dataframe thead th {\n",
       "        text-align: right;\n",
       "    }\n",
       "</style>\n",
       "<table border=\"1\" class=\"dataframe\">\n",
       "  <thead>\n",
       "    <tr style=\"text-align: right;\">\n",
       "      <th></th>\n",
       "      <th>text</th>\n",
       "      <th>label</th>\n",
       "    </tr>\n",
       "  </thead>\n",
       "  <tbody>\n",
       "    <tr>\n",
       "      <th>0</th>\n",
       "      <td>दले ले देश सकेछन सबै बेचे र खान सुरू गरेछन अब ...</td>\n",
       "      <td>0</td>\n",
       "    </tr>\n",
       "    <tr>\n",
       "      <th>1</th>\n",
       "      <td>नेपाल को ससकृती ध्वस्त पार्ने योजना हो यो !</td>\n",
       "      <td>0</td>\n",
       "    </tr>\n",
       "    <tr>\n",
       "      <th>2</th>\n",
       "      <td>मठ मन्दिर गुम्बा का जग्गा हरु मा भुमाफिया को न...</td>\n",
       "      <td>0</td>\n",
       "    </tr>\n",
       "    <tr>\n",
       "      <th>3</th>\n",
       "      <td>नेपाल का कल कर्खाना र नदि नाला बेची सके अब मठ ...</td>\n",
       "      <td>0</td>\n",
       "    </tr>\n",
       "    <tr>\n",
       "      <th>4</th>\n",
       "      <td>नेपाल का कल कर्खाना र नदि नाला बेची सके अब मठ ...</td>\n",
       "      <td>0</td>\n",
       "    </tr>\n",
       "  </tbody>\n",
       "</table>\n",
       "</div>"
      ],
      "text/plain": [
       "                                                text  label\n",
       "0  दले ले देश सकेछन सबै बेचे र खान सुरू गरेछन अब ...      0\n",
       "1        नेपाल को ससकृती ध्वस्त पार्ने योजना हो यो !      0\n",
       "2  मठ मन्दिर गुम्बा का जग्गा हरु मा भुमाफिया को न...      0\n",
       "3  नेपाल का कल कर्खाना र नदि नाला बेची सके अब मठ ...      0\n",
       "4  नेपाल का कल कर्खाना र नदि नाला बेची सके अब मठ ...      0"
      ]
     },
     "execution_count": 17,
     "metadata": {},
     "output_type": "execute_result"
    }
   ],
   "source": [
    "df.head()"
   ]
  },
  {
   "cell_type": "code",
   "execution_count": 18,
   "id": "b76b3d7e",
   "metadata": {},
   "outputs": [],
   "source": [
    "def get_bert_embedding_sentence(input_sentence):\n",
    "    md = model\n",
    "    tokenizer = tokenizers\n",
    "    marked_text = \" [CLS] \" + input_sentence + \" [SEP] \"\n",
    "    tokenized_text = tokenizer.tokenize(marked_text)\n",
    "\n",
    "    indexed_tokens = tokenizer.convert_tokens_to_ids(tokenized_text)\n",
    "    segments_ids = [1] * len(indexed_tokens) \n",
    "    \n",
    "    # Convert inputs to Pytorch tensors\n",
    "    tokens_tensors = torch.tensor([indexed_tokens])\n",
    "    segments_tensors = torch.tensor([segments_ids])\n",
    "    \n",
    "    with torch.no_grad():\n",
    "        outputs = md(tokens_tensors, segments_tensors)\n",
    "        # removing the first hidden state\n",
    "        # the first state is the input state \n",
    "\n",
    "        hidden_states = outputs.hidden_states\n",
    "#         print(hidden_states[-2])\n",
    "        # second_hidden_states = outputs[2]\n",
    "    # hidden_states has shape [13 x 1 x 22 x 768]\n",
    "\n",
    "    # token_vecs is a tensor with shape [22 x 768]\n",
    "#     token_vecs = hidden_states[-2][0]\n",
    "    # get last four layers\n",
    "#     last_four_layers = [hidden_states[i] for i in (-1,-2, -3,-4)]\n",
    "\n",
    "\n",
    "    # cast layers to a tuple and concatenate over the last dimension\n",
    "#     cat_hidden_states = torch.cat(tuple(last_four_layers), dim=-1)\n",
    "#     print(cat_hidden_states.shape)\n",
    "    token_vecs = hidden_states[-2][0]\n",
    "\n",
    "    # take the mean of the concatenated vector over the token dimension\n",
    "#     sentence_embedding = torch.mean(cat_hidden_states, dim=0).squeeze()\n",
    "\n",
    "    # Calculate the average of all 22 token vectors.\n",
    "    sentence_embedding = torch.mean(token_vecs, dim=0)\n",
    "#     sentence_embedding = torch.mean(token_vecs, dim=1)\n",
    "    return sentence_embedding.numpy()"
   ]
  },
  {
   "cell_type": "code",
   "execution_count": 19,
   "id": "1da99701",
   "metadata": {},
   "outputs": [
    {
     "data": {
      "text/plain": [
       "array([ 2.91070808e-03,  2.76484340e-01,  4.30843160e-02,  2.34462410e-01,\n",
       "        1.93695560e-01,  8.08570310e-02,  1.67143330e-01, -1.21491715e-01,\n",
       "        1.98826849e-01, -2.85235912e-01,  8.43921080e-02,  4.07810569e-01,\n",
       "       -9.35231745e-02,  2.51754194e-01, -2.34684926e-02,  2.99455486e-02,\n",
       "        1.88694060e-01, -3.43165576e-01, -1.53445810e-01,  3.77470285e-01,\n",
       "        1.72779873e-01, -1.76885217e-01,  1.78813875e-01, -4.30221707e-01,\n",
       "        9.03602988e-02, -1.43045172e-01,  3.37987170e-02,  2.06439018e-01,\n",
       "        6.37543276e-02,  2.21105024e-01,  1.67193666e-01,  4.74679112e-01,\n",
       "        3.89955603e-02, -5.72416723e-01, -2.64643639e-01, -5.66417277e-01,\n",
       "        1.11003801e-01,  4.15074170e-01, -2.21883193e-01,  8.65614712e-02,\n",
       "        1.92130357e-02,  2.18924120e-01,  4.32191640e-01, -9.03057978e-02,\n",
       "        7.46854618e-02,  3.52693260e-01, -4.17815417e-01,  3.04982275e-01,\n",
       "       -2.55210251e-01,  1.57838315e-01, -3.86268824e-01, -1.11495972e+00,\n",
       "        3.70744258e-01, -1.76815525e-01,  9.34730656e-03,  1.14558168e-01,\n",
       "        2.06838459e-01, -3.16711396e-01,  7.27872312e-01, -1.67653158e-01,\n",
       "        5.10215499e-02,  2.03104749e-01, -1.56506196e-01,  7.19115436e-02,\n",
       "       -1.24085613e-01, -1.80124044e-01, -3.68823074e-02,  3.18035968e-02,\n",
       "        4.03402925e-01, -2.50723511e-01,  9.54799280e-02,  6.31837025e-02,\n",
       "       -1.80972680e-01, -7.60630444e-02, -1.51280090e-01,  5.14474750e-01,\n",
       "       -3.47770631e-01,  1.91024080e-01,  1.02181114e-01, -3.58028233e-01,\n",
       "       -4.53979149e-02,  4.74053979e-01, -3.98334675e-02,  1.38719708e-01,\n",
       "       -1.23045757e-01,  9.45867822e-02, -5.22483051e-01,  1.35249600e-01,\n",
       "        2.10430305e-02, -4.86733228e-01, -2.17338219e-01,  3.03279031e-02,\n",
       "       -2.57729799e-01,  4.44355667e-01,  3.07622284e-01, -6.42723963e-02,\n",
       "       -7.26338476e-02, -3.68624210e-01, -3.43769521e-01, -1.32120192e-01,\n",
       "       -2.00038180e-01,  3.43960255e-01, -3.00186962e-01, -3.15450639e-01,\n",
       "        2.51081079e-01,  1.75766855e-01,  6.73558533e-01, -3.75498593e-01,\n",
       "       -6.05829768e-02,  3.13690335e-01,  2.94815779e-01, -1.85644940e-01,\n",
       "        1.52948588e-01,  1.29318863e-01, -3.56353982e-03,  2.88073003e-01,\n",
       "        2.51204252e-01, -2.89418120e-02, -2.30614454e-01, -2.42932707e-01,\n",
       "        7.04581663e-02,  7.10299164e-02, -2.85553098e-01, -4.20217037e-01,\n",
       "        5.78824818e-01,  3.12243640e-01,  6.60299733e-02,  2.89417237e-01,\n",
       "       -6.87783957e-03,  8.95218551e-02, -6.69887140e-02, -1.53222546e-01,\n",
       "       -2.52321839e-01,  3.61971170e-01, -4.87712681e-01, -1.58856302e-01,\n",
       "        3.85422446e-02, -1.09323993e-01, -3.08731079e-01, -2.49727488e-01,\n",
       "        3.12050045e-01,  6.45389110e-02,  1.33441818e+00, -2.02937126e-01,\n",
       "        3.40576321e-01,  2.94995327e-02, -3.06797940e-02, -4.24146026e-01,\n",
       "       -2.54589975e-01,  8.27182978e-02, -2.48645306e-01,  2.39209116e-01,\n",
       "       -2.58551419e-01, -2.12678760e-01, -1.27913564e-01,  3.04437339e-01,\n",
       "        1.80272665e-02,  2.25853231e-02,  4.70948853e-02, -3.31095964e-01,\n",
       "        3.47491622e-01, -3.27402920e-01,  8.65084603e-02, -9.33738276e-02,\n",
       "       -3.38359982e-01, -1.47047728e-01, -1.73396617e-01, -3.55615988e-02,\n",
       "        2.83219844e-01,  3.85790795e-01, -3.43134105e-01, -7.87624121e-02,\n",
       "       -1.50649115e-01, -7.38424361e-02, -1.74686536e-02,  5.76970816e-01,\n",
       "        6.18962683e-02, -5.39494693e-01,  1.26624182e-01, -9.64001417e-01,\n",
       "       -5.77864289e-01, -7.45446861e-01,  5.20139754e-01, -7.79702723e-01,\n",
       "        4.58651960e-01,  5.71630597e-01,  5.45295142e-02, -9.89343002e-02,\n",
       "        5.09006083e-01,  3.88718434e-02, -5.47290109e-02, -3.81659836e-01,\n",
       "       -5.76325953e-01, -2.21461773e-01, -1.97137333e-02, -3.22615206e-01,\n",
       "        2.02350706e-01, -3.51494938e-01, -1.54801637e-01, -1.54418379e-01,\n",
       "       -2.61098351e-02, -1.61033526e-01, -1.29056737e-01, -2.38223657e-01,\n",
       "        2.10191786e-01,  3.24629098e-01,  5.52051008e-01, -7.65680730e-01,\n",
       "       -3.48701060e-01, -3.88874829e-01, -1.99301139e-01,  1.32551938e-01,\n",
       "        4.20193791e-01,  4.72347111e-01,  2.65596032e-01, -4.19800252e-01,\n",
       "       -1.08418539e-01, -1.47820368e-01, -5.56659579e-01, -7.11665273e-01,\n",
       "       -2.48772457e-01, -3.66813511e-01, -3.32717270e-01,  2.36726984e-01,\n",
       "       -4.68827277e-01, -3.50547314e-01, -1.50922760e-01,  2.35936031e-01,\n",
       "        1.50348499e-01, -5.42318448e-02,  2.31672823e-01, -5.10747969e-01,\n",
       "       -7.36630797e-01, -1.31866634e-01, -1.61897361e-01, -1.45951524e-01,\n",
       "       -4.56491590e-01,  5.05258858e-01, -2.50542074e-01,  1.68982744e-01,\n",
       "        2.60447770e-01, -8.39115009e-02, -4.26299758e-02,  4.64032926e-02,\n",
       "        1.32538840e-01, -5.94755590e-01,  4.51438367e-01,  1.23957872e-01,\n",
       "       -5.51436007e-01, -2.30344266e-01, -2.01908082e-01, -2.45935932e-01,\n",
       "       -1.89023808e-01,  1.74303755e-01, -1.14262536e-01, -5.17025113e-01,\n",
       "       -3.40770662e-01, -3.50893945e-01,  2.48952523e-01,  1.61179394e-01,\n",
       "        7.25113153e-02, -4.57083322e-02, -3.01797092e-01,  8.93392712e-02,\n",
       "       -1.78390682e-01, -2.01086864e-01, -1.10820778e-01, -9.72254351e-02,\n",
       "        4.77479309e-01, -1.65988073e-01, -9.78912562e-02, -2.01430634e-01,\n",
       "       -3.03387135e-01, -4.45342017e-03,  3.35824996e-01,  2.65448749e-01,\n",
       "        1.50278345e-01, -3.74944687e-01,  2.25644410e-01, -5.84436536e-01,\n",
       "       -4.74311948e-01, -2.62926966e-01,  1.45134360e-01,  4.18470442e-01,\n",
       "       -2.71357805e-01,  9.03849602e-02, -1.65070042e-01, -1.74288273e-01,\n",
       "       -3.84644926e-01,  9.42682698e-02,  2.10291311e-01, -2.23996378e-02,\n",
       "       -5.98498702e-01,  3.71387273e-01,  3.24433774e-01, -3.46764565e-01,\n",
       "        3.64829272e-01,  4.97177057e-02, -2.25145429e-01, -2.77519047e-01,\n",
       "       -4.24270004e-01,  3.74199063e-01,  1.30002245e-01, -5.05131334e-02,\n",
       "        6.70525014e-01, -3.02960604e-01,  3.25848848e-01, -1.37959689e-01,\n",
       "        1.61398336e-01,  2.23591313e-01, -1.33887842e-01,  1.83002219e-01,\n",
       "       -1.63930561e-02,  3.54795784e-01,  3.63367707e-01,  5.12701452e-01,\n",
       "        3.88325334e-01,  1.17686832e+00, -1.13069244e-01,  3.24526638e-01,\n",
       "        4.07831371e-01,  1.54221296e-01, -3.54397930e-02,  1.24223322e-01,\n",
       "        2.18892004e-03,  5.80989778e-01,  7.74480462e-01, -2.72987545e-01,\n",
       "        3.18944156e-01, -6.56292662e-02, -2.03143612e-01, -1.46935478e-01,\n",
       "        9.31164101e-02,  3.50385085e-02, -1.04731835e-01,  2.26291984e-01,\n",
       "        2.50975490e-01,  5.51232278e-01,  2.33122617e-01,  3.03118825e-02,\n",
       "        1.29743367e-01,  9.82220173e-02, -1.19945034e-01,  1.12392232e-01,\n",
       "        1.98907927e-01,  2.25094423e-01, -3.06212693e-01, -3.73718947e-01,\n",
       "       -3.75805974e-01,  3.02789301e-01,  7.49531984e-02,  1.36156008e-01,\n",
       "       -2.55259544e-01, -5.74652493e-01, -3.83224070e-01,  2.67164260e-01,\n",
       "       -6.74375653e-01, -5.18551245e-02,  2.30486304e-01, -7.92162418e-02,\n",
       "       -1.52993545e-01, -2.77702451e-01, -2.32485697e-01, -3.08489382e-01,\n",
       "       -1.64260149e-01,  4.47687566e-01, -4.80084449e-01, -4.22815531e-01,\n",
       "       -1.03795692e-01, -4.15076762e-01, -1.36418611e-01, -1.24314226e-01,\n",
       "        2.57019579e-01, -3.21392983e-01, -7.17965811e-02,  4.84809250e-01,\n",
       "       -1.07892501e+00, -4.26231086e-01, -1.44807830e-01,  4.70281601e-01,\n",
       "        8.20666850e-02, -1.49325594e-01, -9.09414738e-02,  2.37789369e+00,\n",
       "        2.47351617e-01, -5.05764127e-01, -3.28492850e-01, -3.01452726e-01,\n",
       "       -2.35393524e-01,  4.83183503e-01, -1.95924938e-01,  3.25164348e-01,\n",
       "       -1.21593200e-01,  3.30406398e-01, -3.60600129e-02,  2.08530342e-03,\n",
       "        1.62695512e-01,  1.94243059e-01, -1.67097241e-01, -2.61571914e-01,\n",
       "        1.96035162e-01, -1.86988577e-01, -2.32357951e-03,  1.23129204e-01,\n",
       "        6.27815798e-02,  6.13487931e-03,  1.33082857e-02, -2.14521199e-01,\n",
       "        3.83636117e-01,  1.03824615e-01,  3.09849232e-01, -2.08279800e+00,\n",
       "       -6.35365471e-02, -2.55964994e-01,  2.30785191e-01,  1.35716885e-01,\n",
       "       -4.13156748e-02,  4.74074529e-03, -6.90626264e-01, -4.21009481e-01,\n",
       "       -1.24534540e-01, -2.31086254e-01, -6.19160593e-01, -3.25722158e-01,\n",
       "        2.48423949e-01,  4.11390364e-01,  5.81087060e-02,  2.81211168e-01,\n",
       "       -4.28112656e-01, -1.28714815e-01, -3.35310906e-01, -1.97499454e-01,\n",
       "       -2.27824852e-01,  1.56893149e-01,  2.36175597e-01,  6.04664207e-01,\n",
       "       -1.64479226e-01, -3.83986980e-01, -3.04603249e-01, -9.44751948e-02,\n",
       "       -4.09028351e-01,  1.80331126e-01,  1.23388879e-02, -2.79171616e-01,\n",
       "       -1.02139831e-01,  2.83412755e-01, -3.41062963e-01,  2.84106791e-01,\n",
       "        1.09824343e-02,  5.19803576e-02,  5.08400321e-01,  2.08981276e-01,\n",
       "        5.38730681e-01,  6.31039590e-02, -2.79032499e-01,  3.92779291e-01,\n",
       "       -6.98964074e-02, -2.25921020e-01, -1.84778139e-01,  8.99896175e-02,\n",
       "        7.82011449e-02,  2.02745140e-01,  5.40081933e-02, -2.00574785e-01,\n",
       "       -1.93781927e-01,  1.01529352e-01,  1.52106911e-01,  3.42032731e-01,\n",
       "        8.00857916e-02, -5.20896792e-01,  2.61886239e-01,  2.84378111e-01,\n",
       "        3.00981104e-01, -2.61905700e-01,  7.05911368e-02,  9.49302763e-02,\n",
       "       -1.33083329e-01, -3.55671108e-01, -3.93327279e-03, -2.51661807e-01,\n",
       "       -2.19390556e-01,  2.17288345e-01,  3.46126556e-01, -2.05627427e-01,\n",
       "       -8.48541409e-02,  6.09317660e-01, -1.38504595e-01, -5.31937182e-01,\n",
       "        3.06211710e-01,  5.07691979e-01, -3.20935577e-01, -5.10463953e-01,\n",
       "       -2.95940876e-01, -1.94798529e-01, -2.79089600e-01, -9.82595831e-02,\n",
       "        1.05434820e-01, -5.59553951e-02,  7.77168199e-02, -8.71502887e-03,\n",
       "        1.17959380e-01, -5.39119318e-02,  2.76033401e-01, -5.01356661e-01,\n",
       "        1.49595276e-01,  1.49281964e-01, -2.18701363e-01, -4.76511925e-01,\n",
       "       -3.49407256e-01,  1.15558714e-01,  8.31797868e-02,  1.44398034e-01,\n",
       "        8.55731890e-02, -4.37458932e-01, -5.71024060e-01, -2.95010448e-01,\n",
       "        1.42547293e-02,  2.89205492e-01, -1.06392384e-01,  4.96828198e-01,\n",
       "        2.51470655e-01,  7.27049559e-02,  1.98577866e-01,  3.25336456e-01,\n",
       "        2.51278907e-01,  2.83519059e-01,  9.57216788e-03, -6.60167634e-03,\n",
       "       -7.22273663e-02, -1.65949434e-01,  1.99591860e-01, -1.06724024e-01,\n",
       "       -1.62436545e-01,  4.21139568e-01, -2.02996954e-01,  3.66770118e-01,\n",
       "        1.34431012e-02, -3.14861327e-01, -2.61401385e-01, -4.72129047e-01,\n",
       "       -3.42555307e-02,  2.43159145e-01,  5.95482886e-01, -2.37129629e-01,\n",
       "        1.01577565e-01, -4.31655198e-01,  6.33529961e-01,  9.23901647e-02,\n",
       "        2.80266494e-01, -2.25043550e-01,  4.32547897e-01,  9.70036164e-02,\n",
       "       -2.36767396e-01, -2.09405527e-01,  2.30050072e-01, -1.45145491e-01,\n",
       "        1.61231369e-01, -3.55364501e-01, -6.82239085e-02, -5.69042981e-01,\n",
       "       -1.44666135e-01,  9.51833278e-02,  3.17297294e-04, -2.75568247e-01,\n",
       "       -3.51205200e-01, -1.34557426e-01, -1.55513927e-01,  5.41721992e-02,\n",
       "        1.71722099e-01, -2.74606258e-01, -2.46562377e-01,  2.06200570e-01,\n",
       "        4.52829540e-01, -4.59599420e-02, -2.21996397e-01, -1.24670655e-01,\n",
       "       -2.06879914e-01, -4.64519188e-02, -1.15038358e-01,  2.22242028e-01,\n",
       "        2.56855607e-01, -8.84572268e-02, -1.75446332e-01, -2.13717055e-02,\n",
       "        1.32500201e-01, -9.39306915e-02, -5.62380962e-02, -2.69812122e-02,\n",
       "       -2.73179114e-01,  5.87976212e-03, -3.16854775e-01, -1.48489892e-01,\n",
       "        4.93003517e-01, -4.47635464e-02, -2.52034605e-01, -6.39279559e-02,\n",
       "        1.38241455e-01,  2.86799014e-01, -1.32100773e-03,  4.98732626e-01,\n",
       "       -2.27667682e-04, -3.65513444e-01, -9.38264057e-02,  3.51338327e-01,\n",
       "        8.84409696e-02, -1.60710990e-01, -2.23211176e-03,  1.09779745e-01,\n",
       "        2.51194369e-02,  4.21582490e-01, -1.31565124e-01,  9.37592164e-02,\n",
       "        2.99350042e-02, -1.50183335e-01,  2.84725249e-01, -4.34360445e-01,\n",
       "        5.66719025e-02,  3.46904218e-01, -5.34146726e-01,  1.78508386e-01,\n",
       "        2.10939050e-02, -3.25439960e-01, -8.17522332e-02,  1.02968980e-02,\n",
       "        1.83501169e-01, -1.78176537e-01, -2.33037323e-01,  3.74381661e-01,\n",
       "        1.17945246e-01,  1.62743405e-01,  3.63565460e-02,  3.39838922e-01,\n",
       "        1.56694800e-01, -4.21506584e-01,  5.36487624e-02, -4.14855480e-02,\n",
       "        4.88820709e-02,  2.35816643e-01,  2.53848344e-01,  4.36824597e-02,\n",
       "        4.35991704e-01,  6.25409633e-02,  2.74118464e-02,  4.54681180e-02,\n",
       "       -6.53874099e-01, -2.43043408e-01, -1.77125186e-01,  2.21067637e-01,\n",
       "        9.67154503e-02, -3.90872627e-01,  4.00876164e-01, -2.16228478e-02,\n",
       "        3.38990569e-01,  2.15466157e-01,  3.94907519e-02,  3.42751622e-01,\n",
       "       -2.82876074e-01,  3.32992405e-01,  4.17783141e-01,  9.38047543e-02,\n",
       "       -2.46094778e-01, -1.18638761e-01,  7.81536549e-02, -4.39021587e-01,\n",
       "       -3.62325758e-02, -3.66913468e-01,  3.75909835e-01,  2.81343907e-01,\n",
       "       -2.81562209e-01,  2.50433981e-01,  7.54268318e-02, -3.47617626e-01,\n",
       "       -4.32141751e-01, -1.21247061e-02,  5.05248606e-01,  1.47162884e-01,\n",
       "       -4.82290722e-02, -3.19835871e-01, -3.31550598e-01, -1.66307822e-01,\n",
       "        3.68739754e-01,  5.89803696e-01,  2.22662359e-01,  3.06153834e-01,\n",
       "        2.45160311e-01,  2.54573166e-01,  3.27645600e-01, -4.76284087e-01,\n",
       "       -1.57932982e-01,  7.62649328e-02,  3.21276397e-01,  7.36703724e-02,\n",
       "       -6.40631840e-02,  5.85404277e-01,  9.89806131e-02,  2.34496519e-01,\n",
       "       -3.40893000e-01,  6.61903694e-02,  2.62250513e-01, -1.41086608e-01,\n",
       "       -9.05956924e-01, -1.34266242e-01,  8.99606422e-02,  2.86774844e-01,\n",
       "        4.44957525e-01, -5.84432065e-01,  2.43837282e-01, -4.44107741e-01,\n",
       "       -6.84100809e-03, -1.35110587e-01,  2.21488953e-01,  4.67467308e-01,\n",
       "        3.46444905e-01, -3.78951192e-01,  4.20759581e-02, -6.53922737e-01,\n",
       "        1.27964675e-01,  4.70195293e-01,  2.12090269e-01, -9.19297859e-02,\n",
       "        1.53638385e-02, -7.02858627e-01, -1.31328121e-01, -1.17914923e-01,\n",
       "        5.04822612e-01, -4.59251583e-01, -9.07917395e-02,  5.04760027e-01,\n",
       "       -5.72812915e-01,  1.47812337e-01,  1.45144746e-01, -9.68278646e-02,\n",
       "        3.98417979e-01,  3.31187516e-01, -2.26703629e-01, -7.22698718e-02,\n",
       "       -9.05805975e-02,  3.34984213e-02, -3.63274179e-02,  2.98166037e-01,\n",
       "        1.99655801e-01, -1.31166741e-01,  1.76362902e-01, -6.71847224e-01,\n",
       "       -6.76338136e-01,  6.67161122e-02,  6.90661132e-01,  4.49554734e-02,\n",
       "       -2.03058392e-01,  3.38501096e-01,  3.51710439e-01,  2.27445507e+00,\n",
       "        2.76499659e-01,  5.11545688e-02, -2.03331888e-01, -1.80938587e-01,\n",
       "       -4.67045754e-01,  1.61766768e-01, -2.06548288e-01,  5.91794908e-01,\n",
       "        3.32719833e-01, -1.64753292e-02, -8.62652138e-02,  6.03039384e-01,\n",
       "        8.91063511e-02,  3.36643815e-01, -6.52903244e-02, -3.67760599e-01],\n",
       "      dtype=float32)"
      ]
     },
     "execution_count": 19,
     "metadata": {},
     "output_type": "execute_result"
    }
   ],
   "source": [
    "get_bert_embedding_sentence(\"नेपाल को ससकृती ध्वस्त पार्ने योजना\")"
   ]
  },
  {
   "cell_type": "code",
   "execution_count": 20,
   "id": "ba7e75a3",
   "metadata": {},
   "outputs": [],
   "source": [
    "df['word_embeddings'] = df['text'].apply(get_bert_embedding_sentence)"
   ]
  },
  {
   "cell_type": "code",
   "execution_count": 21,
   "id": "edad3099",
   "metadata": {},
   "outputs": [
    {
     "data": {
      "text/html": [
       "<div>\n",
       "<style scoped>\n",
       "    .dataframe tbody tr th:only-of-type {\n",
       "        vertical-align: middle;\n",
       "    }\n",
       "\n",
       "    .dataframe tbody tr th {\n",
       "        vertical-align: top;\n",
       "    }\n",
       "\n",
       "    .dataframe thead th {\n",
       "        text-align: right;\n",
       "    }\n",
       "</style>\n",
       "<table border=\"1\" class=\"dataframe\">\n",
       "  <thead>\n",
       "    <tr style=\"text-align: right;\">\n",
       "      <th></th>\n",
       "      <th>text</th>\n",
       "      <th>label</th>\n",
       "      <th>word_embeddings</th>\n",
       "    </tr>\n",
       "  </thead>\n",
       "  <tbody>\n",
       "    <tr>\n",
       "      <th>0</th>\n",
       "      <td>दले ले देश सकेछन सबै बेचे र खान सुरू गरेछन अब ...</td>\n",
       "      <td>0</td>\n",
       "      <td>[0.12212254, 0.7608289, 0.2592004, -0.22691977...</td>\n",
       "    </tr>\n",
       "    <tr>\n",
       "      <th>1</th>\n",
       "      <td>नेपाल को ससकृती ध्वस्त पार्ने योजना हो यो !</td>\n",
       "      <td>0</td>\n",
       "      <td>[-0.23879674, 0.24500687, 0.1483417, 0.0913316...</td>\n",
       "    </tr>\n",
       "    <tr>\n",
       "      <th>2</th>\n",
       "      <td>मठ मन्दिर गुम्बा का जग्गा हरु मा भुमाफिया को न...</td>\n",
       "      <td>0</td>\n",
       "      <td>[-0.029842352, 0.50058687, 0.14775877, 0.36790...</td>\n",
       "    </tr>\n",
       "    <tr>\n",
       "      <th>3</th>\n",
       "      <td>नेपाल का कल कर्खाना र नदि नाला बेची सके अब मठ ...</td>\n",
       "      <td>0</td>\n",
       "      <td>[-0.042951472, 0.23612754, -0.019368768, 0.340...</td>\n",
       "    </tr>\n",
       "    <tr>\n",
       "      <th>4</th>\n",
       "      <td>नेपाल का कल कर्खाना र नदि नाला बेची सके अब मठ ...</td>\n",
       "      <td>0</td>\n",
       "      <td>[-0.042951472, 0.23612754, -0.019368768, 0.340...</td>\n",
       "    </tr>\n",
       "  </tbody>\n",
       "</table>\n",
       "</div>"
      ],
      "text/plain": [
       "                                                text  label  \\\n",
       "0  दले ले देश सकेछन सबै बेचे र खान सुरू गरेछन अब ...      0   \n",
       "1        नेपाल को ससकृती ध्वस्त पार्ने योजना हो यो !      0   \n",
       "2  मठ मन्दिर गुम्बा का जग्गा हरु मा भुमाफिया को न...      0   \n",
       "3  नेपाल का कल कर्खाना र नदि नाला बेची सके अब मठ ...      0   \n",
       "4  नेपाल का कल कर्खाना र नदि नाला बेची सके अब मठ ...      0   \n",
       "\n",
       "                                     word_embeddings  \n",
       "0  [0.12212254, 0.7608289, 0.2592004, -0.22691977...  \n",
       "1  [-0.23879674, 0.24500687, 0.1483417, 0.0913316...  \n",
       "2  [-0.029842352, 0.50058687, 0.14775877, 0.36790...  \n",
       "3  [-0.042951472, 0.23612754, -0.019368768, 0.340...  \n",
       "4  [-0.042951472, 0.23612754, -0.019368768, 0.340...  "
      ]
     },
     "execution_count": 21,
     "metadata": {},
     "output_type": "execute_result"
    }
   ],
   "source": [
    "df.head()"
   ]
  },
  {
   "cell_type": "code",
   "execution_count": 54,
   "id": "bc3840ee",
   "metadata": {},
   "outputs": [],
   "source": [
    "# df.to_csv('embedding_data.csv',index = False)"
   ]
  },
  {
   "cell_type": "code",
   "execution_count": 10,
   "id": "2da7b924",
   "metadata": {},
   "outputs": [],
   "source": [
    "X,y = df['word_embeddings'], df['label']"
   ]
  },
  {
   "cell_type": "code",
   "execution_count": 58,
   "id": "6bc72bb6",
   "metadata": {},
   "outputs": [],
   "source": [
    "# scaler = StandardScaler()\n",
    "# pca = PCA(n_components = 768)"
   ]
  },
  {
   "cell_type": "code",
   "execution_count": 59,
   "id": "99ad87ec",
   "metadata": {},
   "outputs": [],
   "source": [
    "# scaled_X = scaler.fit_transform(X.tolist())\n",
    "# pca_X = pca.fit_transform(scaled_X)"
   ]
  },
  {
   "cell_type": "code",
   "execution_count": 79,
   "id": "1098c243",
   "metadata": {},
   "outputs": [
    {
     "data": {
      "text/plain": [
       "array([ 9.00031477e-02,  1.66499496e-01, -3.07980943e-02, -2.14085490e-01,\n",
       "       -9.73105878e-02,  7.02001035e-01,  2.27083519e-01, -4.40519065e-01,\n",
       "       -9.80149746e-01, -1.32598355e-01, -6.32048547e-01,  8.25029686e-02,\n",
       "        5.32249212e-01, -5.74132621e-01, -8.16702470e-02,  3.62493336e-01,\n",
       "        1.53544441e-01,  1.80434734e-02,  1.14439704e-01,  2.15428352e-01,\n",
       "       -3.33787411e-01,  4.09833729e-01, -5.68685532e-01, -3.67090881e-01,\n",
       "       -5.66257060e-01, -3.14845145e-02, -3.09746414e-01, -1.04817890e-01,\n",
       "        4.21759933e-01, -1.69556841e-01,  2.54257262e-01, -5.29032826e-01,\n",
       "        3.64158675e-02,  1.32116973e-01,  1.40526503e-01,  5.25993049e-01,\n",
       "        4.77683470e-02, -1.94929205e-02, -1.96502596e-01,  2.55206108e-01,\n",
       "        5.47504425e-02, -1.25304654e-01,  1.82015821e-01, -1.02168359e-01,\n",
       "       -2.98573077e-01,  4.88719136e-01,  3.07476103e-01,  4.39761765e-02,\n",
       "       -2.83473074e-01, -6.35397956e-02,  5.71784496e-01, -7.38795474e-02,\n",
       "       -2.74728835e-01, -4.29542959e-02, -6.26733899e-01, -1.53046474e-01,\n",
       "        1.93302110e-01, -1.18331306e-01,  4.70461845e-01, -2.05429003e-01,\n",
       "        6.88528866e-02, -1.94984600e-01, -9.90948677e-02,  5.67673981e-01,\n",
       "       -2.31773213e-01, -5.73335648e-01,  2.60546148e-01, -8.32460895e-02,\n",
       "        2.61078119e-01,  3.24093513e-02, -3.96458387e-01,  1.44720241e-01,\n",
       "        2.12539852e-01,  3.89149815e-01, -2.39191260e-02, -1.85568258e-01,\n",
       "       -7.37762824e-02, -7.06536621e-02, -1.57761127e-01, -7.76222199e-02,\n",
       "        9.40741837e-01,  5.02112687e-01,  2.76923388e-01, -4.72877592e-01,\n",
       "       -2.57799588e-02, -5.01214921e-01, -4.78554994e-01,  4.05186504e-01,\n",
       "        5.03490083e-02,  4.06531483e-01, -4.22871143e-01,  5.48974931e-01,\n",
       "        6.86785802e-02, -1.85933918e-01,  2.76650190e-01, -5.67394018e-01,\n",
       "        3.89532357e-01, -6.57694340e-02, -1.18852830e+00, -1.01147525e-01,\n",
       "       -1.11453734e-01, -7.19183758e-02, -3.05317730e-01,  6.29596263e-02,\n",
       "       -4.85746115e-01,  2.55177647e-01,  7.81504065e-02, -2.29342237e-01,\n",
       "       -3.16026568e-01,  8.57104421e-01, -2.63348669e-01,  1.33935273e+00,\n",
       "       -2.26265818e-01,  1.60021082e-01, -5.87832868e-01, -1.94143251e-01,\n",
       "        3.22877884e-01,  3.10603201e-01,  2.20619887e-01,  4.44137037e-01,\n",
       "        8.53610098e-01, -7.79441118e-01,  5.96908741e-02, -2.42230415e-01,\n",
       "        6.18625998e-01,  7.36189544e-01, -5.23310781e-01,  2.30444506e-01,\n",
       "       -1.30038604e-01,  1.32512301e-01, -1.83961511e-01, -1.36729312e+00,\n",
       "        2.12843969e-01,  4.47851866e-01,  4.05846059e-01, -3.28147262e-01,\n",
       "        6.41368777e-02, -2.24847615e-01,  4.08198297e-01, -4.48271811e-01,\n",
       "       -3.42348903e-01,  1.04792014e-01,  5.07417172e-02,  3.12591761e-01,\n",
       "        5.64675450e-01,  7.59308338e-01, -3.75561565e-01, -3.91593784e-01,\n",
       "        1.27418831e-01, -3.26140612e-01, -1.98765799e-01, -1.52026955e-02,\n",
       "       -2.00150460e-01, -1.14540011e-01,  5.95571816e-01,  1.37133151e-01,\n",
       "       -2.37909317e-01,  5.05189225e-02,  2.34292910e-01, -2.25405946e-01,\n",
       "       -2.86474943e-01,  3.54872197e-01,  6.94717526e-01,  4.12457705e-01,\n",
       "        8.49334821e-02,  6.39192700e-01,  6.36869818e-02,  6.50722563e-01,\n",
       "       -1.58952937e-01, -2.39477232e-01, -6.02617145e-01, -3.39689940e-01,\n",
       "        8.01925302e-01,  9.52342451e-02,  1.38225961e+00, -2.43462950e-01,\n",
       "       -5.10768771e-01, -7.00422108e-01, -2.82832682e-01, -1.16117775e-01,\n",
       "       -3.68819743e-01,  3.63510102e-01,  2.09171269e-02,  7.15340495e-01,\n",
       "        7.64390826e-01, -4.27058752e-04, -2.18115628e-01,  2.09466636e-01,\n",
       "       -3.89918178e-01, -4.61817503e-01, -4.28091995e-02, -2.33416781e-01,\n",
       "       -2.17471644e-01,  7.08090141e-02,  2.49424577e-01, -3.37617338e-01,\n",
       "        7.30385602e-01,  1.62286028e-01,  2.01080889e-01,  1.52288619e-02,\n",
       "       -2.08872572e-01, -3.08019787e-01, -5.49914837e-02, -2.70705879e-01,\n",
       "        8.04163158e-01,  9.32251811e-02, -2.74645481e-02, -7.27806166e-02,\n",
       "       -1.67535514e-01, -2.45373860e-01, -7.11225346e-02, -9.07012299e-02,\n",
       "        1.86626390e-01,  8.10252488e-01,  2.00105116e-01,  2.91023523e-01,\n",
       "        2.22482204e-01, -6.84771538e-01, -5.40659651e-02,  2.68819362e-01,\n",
       "       -8.87247920e-02, -2.15085298e-01, -2.30713800e-01, -3.29757363e-01,\n",
       "       -2.13566214e-01, -3.36778641e-01, -6.91297710e-01, -1.39995739e-01,\n",
       "       -1.08821236e-01,  1.21423282e-01,  5.03910780e-01,  5.37602045e-02,\n",
       "       -3.05304885e-01, -8.86196718e-02, -6.24413967e-01, -1.69780359e-01,\n",
       "       -1.96012944e-01,  2.34402910e-01, -4.41361159e-01, -1.01384461e-01,\n",
       "       -8.87900069e-02,  4.60897610e-02,  8.36933851e-01,  9.00471061e-02,\n",
       "       -4.96529266e-02,  1.47572130e-01, -4.41222042e-01,  9.22675729e-02,\n",
       "        6.29781306e-01, -4.76119548e-01,  1.24841414e-01, -4.76976931e-02,\n",
       "        1.30615100e-01, -2.77946711e-01,  2.37106323e-01, -1.94766521e-01,\n",
       "        5.60533166e-01,  1.30511820e-01,  1.34154201e-01, -3.21782529e-02,\n",
       "        1.48084670e-01, -7.69181371e-01, -4.27140594e-01, -3.68938625e-01,\n",
       "        6.99860036e-01,  5.51267326e-01,  4.41449314e-01,  6.78714439e-02,\n",
       "       -3.17926466e-01, -2.94785559e-01, -1.69618204e-01,  3.02165985e-01,\n",
       "        3.57491791e-01, -4.06461030e-01,  3.12650919e-01, -5.02741754e-01,\n",
       "        3.84606004e-01,  3.87989461e-01, -1.73748042e-02,  5.32616377e-02,\n",
       "        6.36552870e-02,  5.13826251e-01, -2.35415667e-01, -1.82781860e-01,\n",
       "        6.59100235e-01,  3.53397131e-01,  1.60779253e-01,  3.81162055e-02,\n",
       "       -6.53114736e-01, -2.67377794e-01,  5.13045907e-01, -6.81403875e-02,\n",
       "       -2.84877159e-02, -3.38769168e-01, -8.53569210e-01,  2.10628375e-01,\n",
       "        2.08782762e-01, -2.93961823e-01, -7.57770762e-02, -5.99665828e-02,\n",
       "       -2.47246444e-01,  2.69079983e-01,  3.27750981e-01, -7.64964223e-01,\n",
       "       -1.02623098e-01,  1.34718820e-01,  6.48716539e-02,  7.72034407e-01,\n",
       "        2.85386622e-01,  1.03938021e-01, -3.16127777e-01, -1.79667026e-01,\n",
       "        2.20893826e-02, -6.75486088e-01,  1.63352996e-01, -2.18324706e-01,\n",
       "        4.69666496e-02, -2.12169603e-01, -3.12991261e-01, -2.58004725e-01,\n",
       "       -2.30212808e-01,  2.63652742e-01,  3.07078600e-01, -3.16554040e-01,\n",
       "       -3.30837965e-02,  6.57096365e-03, -1.94503903e-01,  6.23704270e-02,\n",
       "       -7.82690048e-02,  4.61761713e-01,  1.05758585e-01,  5.85054696e-01,\n",
       "        4.69197869e-01, -6.75751626e-01, -2.86520302e-01,  4.92714107e-01,\n",
       "       -3.16668123e-01, -4.23478484e-01,  1.08277760e-01, -6.84911191e-01,\n",
       "        5.52272685e-02,  7.60392249e-02,  3.98708016e-01, -6.09865747e-02,\n",
       "        4.60268825e-01,  2.27024734e-01,  3.32335919e-01, -4.69928421e-03,\n",
       "       -3.77218813e-01,  5.03923714e-01,  1.92951679e-01, -1.58616379e-01,\n",
       "        1.00349993e-01,  4.18253899e-01, -2.74444848e-01, -4.29361165e-01,\n",
       "       -7.99806565e-02, -3.74872059e-01, -3.22472453e-01,  5.61461858e-02,\n",
       "        2.88019955e-01,  2.68511921e-01, -3.59451383e-01,  3.86790037e-01,\n",
       "        3.21729124e-01, -2.25151144e-02, -4.34494972e-01,  1.81097537e-01,\n",
       "        7.31146894e-03, -8.71687382e-02, -3.81682336e-01,  3.56009930e-01,\n",
       "       -1.31493166e-01, -1.78093277e-02,  3.35234880e-01, -5.37194490e-01,\n",
       "        5.46474382e-02,  3.09626400e-01,  2.34382898e-01, -3.59145105e-02,\n",
       "        5.07611036e-01, -4.79381997e-03,  1.34609535e-01, -1.53065890e-01,\n",
       "        4.76345010e-02,  4.16103691e-01,  9.85283703e-02,  3.78619343e-01,\n",
       "        8.45589936e-01, -8.19286555e-02, -4.27412689e-02, -1.33911204e-02,\n",
       "       -7.10197747e-01, -3.87845546e-01,  1.99445173e-01, -3.14899176e-01,\n",
       "       -2.44395167e-01, -1.84598826e-02, -9.57075238e-01, -7.84583539e-02,\n",
       "        2.15822354e-01,  1.80815622e-01, -1.71339400e-02, -4.80052531e-01,\n",
       "       -4.65544432e-01, -5.94167829e-01,  2.57337302e-01,  8.17616470e-03,\n",
       "        2.37454884e-02,  3.27836454e-01,  5.51464111e-02, -4.59007531e-01,\n",
       "        1.05667099e-01,  1.06805658e+00,  2.39553928e-01,  5.00951529e-01,\n",
       "       -3.53008032e-01, -2.14436531e-01, -1.09429387e-02,  3.14318448e-01,\n",
       "       -1.09673910e-01,  3.68400842e-01,  4.50673431e-01,  5.89434355e-02,\n",
       "       -3.29814643e-01,  7.04696029e-02, -6.01106584e-01,  9.29335475e-01,\n",
       "        9.72171277e-02,  1.20510377e-01,  2.90297806e-01, -4.04104412e-01,\n",
       "        3.21696550e-01,  8.21881950e-01,  3.34215879e-01,  2.45015457e-01,\n",
       "       -5.03953457e-01,  1.24943189e-01, -1.21431462e-02, -1.98355362e-01,\n",
       "       -2.63641804e-01,  1.78649679e-01, -1.03284791e-01, -2.12455437e-01,\n",
       "       -1.62150413e-02, -4.02994156e-02, -1.76330551e-03,  1.14646539e-01,\n",
       "       -1.62139386e-01,  7.56719569e-03, -7.00060949e-02, -9.54742264e-03,\n",
       "       -2.10793018e-01, -5.72048843e-01,  4.52025086e-01,  1.48554832e-01,\n",
       "        2.39520185e-02,  1.26500115e-01, -7.57184252e-02,  3.23869377e-01,\n",
       "       -5.10790110e-01, -5.74360192e-01,  5.24135113e-01, -6.33747224e-03,\n",
       "        5.42826474e-01,  1.81950722e-02, -6.37384295e-01,  2.48092189e-02,\n",
       "       -3.55654389e-01,  4.92235363e-01,  1.92861244e-01, -8.50664526e-02,\n",
       "        4.40177381e-01,  2.57530332e-01, -9.54347923e-02,  3.50588083e-01,\n",
       "       -4.35023103e-03, -3.29573959e-01, -7.65142515e-02,  2.67108887e-01,\n",
       "        4.54723805e-01,  2.86273304e-02,  3.15852970e-01,  1.74974203e-02,\n",
       "        9.82789770e-02, -3.56207222e-01, -5.04639864e-01,  3.65915686e-01,\n",
       "       -5.08218050e-01, -1.16224468e-01, -3.00392032e-01,  5.66065311e-01,\n",
       "       -1.09436668e-01,  2.88359206e-02, -5.30977026e-02,  1.93618640e-01,\n",
       "       -7.92055503e-02,  5.54835677e-01,  5.25311947e-01,  7.53401145e-02,\n",
       "       -3.68284851e-01,  2.29650676e-01, -2.96108097e-01, -1.52185607e+00,\n",
       "        3.00479949e-01,  1.08881630e-01,  3.65243763e-01, -6.68446720e-01,\n",
       "        5.54358326e-02, -8.33766833e-02,  1.22334957e-02,  3.92463617e-02,\n",
       "       -9.77541283e-02, -1.03517622e-01, -1.93234310e-01,  1.13480605e-01,\n",
       "        6.58968613e-02, -3.08827925e-02, -6.29232883e-01,  4.18674797e-01,\n",
       "       -2.23334268e-01, -1.59482047e-01,  1.53503507e-01, -7.13298991e-02,\n",
       "       -2.69835055e-01,  1.05833136e-01,  5.86318314e-01, -2.80138940e-01,\n",
       "        1.14572413e-01, -5.06659187e-02,  2.04302832e-01, -3.08728516e-01,\n",
       "       -5.41697502e-01,  2.56657545e-02,  6.52730405e-01, -2.98739374e-01,\n",
       "       -6.19150735e-02, -4.19903338e-01, -2.33381972e-01, -5.51474750e-01,\n",
       "       -4.42243665e-01,  2.95956373e-01, -2.45996997e-01,  3.37964036e-02,\n",
       "        9.06517684e-01,  4.91634011e-01,  2.28893124e-02,  5.34380198e-01,\n",
       "        3.28135848e-01, -3.83384526e-01, -9.56871919e-03,  6.61492407e-01,\n",
       "        3.85461658e-01,  3.81762177e-01,  2.55679816e-01,  1.38574559e-02,\n",
       "        6.36368573e-01, -1.65724397e-01, -2.69087940e-01, -9.14023101e-01,\n",
       "        7.25015283e-01,  6.81626201e-01,  1.06704734e-01,  3.32474709e-01,\n",
       "        7.63422906e-01, -3.73463482e-01,  1.60726413e-01, -1.84627801e-01,\n",
       "       -1.85909033e-01,  4.56571490e-01, -3.04770023e-02,  4.40414175e-02,\n",
       "       -1.66598439e-01, -4.10692930e-01,  7.55920187e-02,  3.09413850e-01,\n",
       "        1.01701155e-01,  1.93136871e-01,  5.83946943e-01, -2.30267778e-01,\n",
       "       -3.81898075e-01,  2.49590665e-01, -7.38412619e-01, -2.72553504e-01,\n",
       "        1.54534101e-01, -1.19896993e-01, -6.01647615e-01,  1.58340018e-02,\n",
       "       -4.15976852e-01,  3.75761092e-01,  2.10080892e-01,  5.12624122e-02,\n",
       "        1.49492919e-01,  3.79243456e-02, -2.95748383e-01, -3.85461181e-01,\n",
       "        5.71543932e-01,  8.03203434e-02, -1.77510232e-01,  2.15584621e-01,\n",
       "       -1.47435099e-01, -1.30583003e-01, -3.93883765e-01, -5.50827645e-02,\n",
       "       -4.06353533e-01,  2.32153922e-01,  3.94747406e-02, -1.58317149e-01,\n",
       "       -9.62250605e-02, -4.90307212e-01, -1.69894293e-01,  1.41167894e-01,\n",
       "       -2.60348082e-01,  2.11419672e-01,  2.70636290e-01,  3.11382949e-01,\n",
       "       -6.04271412e-01, -2.15842247e-01,  1.67392224e-01, -1.52196810e-01,\n",
       "        4.12803113e-01,  2.73577005e-01, -6.00866616e-01,  5.20956695e-01,\n",
       "       -5.29727221e-01, -6.44630253e-01, -1.70400254e-02, -2.19877679e-02,\n",
       "       -4.22430217e-01,  1.42291918e-01,  6.42914474e-01, -9.35760662e-02,\n",
       "       -7.44030774e-01,  3.65201950e-01,  2.06222892e-01, -1.73361391e-01,\n",
       "       -5.06956518e-01, -5.54641187e-01,  4.81246352e-01,  2.62698904e-02,\n",
       "       -3.08944494e-01,  3.73021901e-01, -1.31874114e-01,  6.54509902e-01,\n",
       "        1.94722012e-01,  7.36999214e-02,  5.59412176e-03, -4.54951823e-02,\n",
       "       -5.45328796e-01,  1.69267207e-01, -1.21269569e-01,  1.94952056e-01,\n",
       "       -5.37604988e-01,  2.61471540e-01, -2.12369189e-01, -8.76881480e-02,\n",
       "        8.35708082e-02, -2.62753755e-01, -5.74178576e-01,  4.63125318e-01,\n",
       "        3.76349628e-01, -2.22789153e-01, -2.10310072e-01,  4.18599129e-01,\n",
       "       -1.38840705e-01, -4.74641383e-01,  1.47267342e-01,  2.86701202e-01,\n",
       "        1.98016956e-01,  1.15698777e-01, -9.73820128e-03, -2.30807573e-01,\n",
       "        2.49379680e-01,  6.96727214e-03,  1.96011946e-01, -9.60592851e-02,\n",
       "        6.81406781e-02, -1.84467152e-01,  2.05276713e-01,  2.40346774e-01,\n",
       "        2.55740613e-01,  2.17639849e-01, -1.34665534e-01, -6.37082905e-02,\n",
       "       -6.19158626e-01,  3.72776151e-01, -5.23589253e-01,  7.90074840e-02,\n",
       "       -3.47005785e-01, -1.52817979e-01,  2.45024279e-01,  3.60550523e-01,\n",
       "       -1.72921911e-01,  3.29504222e-01, -4.19371843e-01,  1.74159452e-01,\n",
       "        2.43243337e-01,  5.30066490e-01, -2.73535043e-01,  2.64113285e-02,\n",
       "        8.85447115e-03, -1.69699326e-01, -2.85762936e-01,  6.05962098e-01,\n",
       "       -1.96715221e-01, -8.47238660e-01,  7.73947597e-01,  9.08756256e-03,\n",
       "       -2.06833273e-01,  1.01255856e-01,  3.53295296e-01, -5.26821136e-01,\n",
       "        5.84228277e-01, -3.70962381e-01,  9.88376081e-01, -5.09158559e-02,\n",
       "       -3.16733718e-01, -1.91918984e-01,  4.40894999e-02,  5.26668847e-01,\n",
       "        2.59411544e-01, -3.22603703e-01,  1.58701494e-01,  2.02584311e-01,\n",
       "        5.87072819e-02, -8.74828696e-02,  1.98358878e-01, -3.45335424e-01,\n",
       "        3.44848782e-01,  4.94252801e-01, -5.70639253e-01, -2.77846485e-01,\n",
       "       -3.67550962e-02,  2.51076490e-01, -3.64630520e-02, -1.01126000e-01,\n",
       "       -8.88511762e-02,  8.32476318e-01,  9.24085602e-02, -2.48733200e-02,\n",
       "       -2.82383651e-01, -2.03269526e-01,  9.88054127e-02, -1.44295484e-01,\n",
       "       -1.87991977e-01, -3.65945309e-01, -1.28476873e-01, -9.81351733e-02,\n",
       "        2.16483071e-01, -1.48256943e-01, -4.13199574e-01, -1.24617755e-01,\n",
       "       -1.17003012e+00,  5.65011837e-02, -1.16640650e-01,  4.75711882e-01,\n",
       "        4.29974616e-01, -5.84251098e-02,  2.87299789e-02,  3.02804619e-01,\n",
       "       -3.43185663e-01, -1.98303223e-01, -3.25357586e-01, -5.44131994e-01,\n",
       "       -7.16774240e-02, -1.27900636e+00,  2.79302653e-02, -2.40327790e-01],\n",
       "      dtype=float32)"
      ]
     },
     "execution_count": 79,
     "metadata": {},
     "output_type": "execute_result"
    }
   ],
   "source": [
    "numpy.array(X[0])"
   ]
  },
  {
   "cell_type": "code",
   "execution_count": 13,
   "id": "9689b1a4",
   "metadata": {},
   "outputs": [],
   "source": [
    "train_X, test_X, train_y, test_y = train_test_split(X,y, test_size = 0.2, random_state = 420)"
   ]
  },
  {
   "cell_type": "code",
   "execution_count": 14,
   "id": "828e1a7a",
   "metadata": {},
   "outputs": [],
   "source": [
    "svc = SVC()"
   ]
  },
  {
   "cell_type": "code",
   "execution_count": 82,
   "id": "d6524c9d",
   "metadata": {},
   "outputs": [],
   "source": [
    "# train_X = [i[0] for i in train_X]\n",
    "# test_X = [i[0] for i in test_X]"
   ]
  },
  {
   "cell_type": "code",
   "execution_count": 83,
   "id": "f8311883",
   "metadata": {},
   "outputs": [],
   "source": [
    "# train_X[0][0].shape"
   ]
  },
  {
   "cell_type": "code",
   "execution_count": 15,
   "id": "2af91c5f",
   "metadata": {},
   "outputs": [
    {
     "data": {
      "text/plain": [
       "SVC()"
      ]
     },
     "execution_count": 15,
     "metadata": {},
     "output_type": "execute_result"
    }
   ],
   "source": [
    "svc.fit(train_X.tolist(), train_y)\n",
    "#svc.fit(train_X, train_y)"
   ]
  },
  {
   "cell_type": "code",
   "execution_count": 16,
   "id": "16d5e606",
   "metadata": {},
   "outputs": [],
   "source": [
    "svc_pred = svc.predict(test_X.tolist())\n",
    "# svc_pred = svc.predict(test_X)"
   ]
  },
  {
   "cell_type": "code",
   "execution_count": 17,
   "id": "fdd814fe",
   "metadata": {},
   "outputs": [
    {
     "name": "stdout",
     "output_type": "stream",
     "text": [
      "[[521 108]\n",
      " [190 390]]\n"
     ]
    }
   ],
   "source": [
    "print(confusion_matrix(test_y, svc_pred))"
   ]
  },
  {
   "cell_type": "code",
   "execution_count": 18,
   "id": "c87a1d85",
   "metadata": {},
   "outputs": [
    {
     "name": "stdout",
     "output_type": "stream",
     "text": [
      "              precision    recall  f1-score   support\n",
      "\n",
      "           0       0.73      0.83      0.78       629\n",
      "           1       0.78      0.67      0.72       580\n",
      "\n",
      "    accuracy                           0.75      1209\n",
      "   macro avg       0.76      0.75      0.75      1209\n",
      "weighted avg       0.76      0.75      0.75      1209\n",
      "\n"
     ]
    }
   ],
   "source": [
    "print(classification_report(test_y, svc_pred))"
   ]
  },
  {
   "cell_type": "code",
   "execution_count": 19,
   "id": "78fe89bc",
   "metadata": {},
   "outputs": [
    {
     "data": {
      "text/plain": [
       "0.7535153019023987"
      ]
     },
     "execution_count": 19,
     "metadata": {},
     "output_type": "execute_result"
    }
   ],
   "source": [
    "accuracy_score(test_y, svc_pred)"
   ]
  },
  {
   "cell_type": "code",
   "execution_count": 20,
   "id": "87c34455",
   "metadata": {},
   "outputs": [
    {
     "data": {
      "text/plain": [
       "0.7235621521335807"
      ]
     },
     "execution_count": 20,
     "metadata": {},
     "output_type": "execute_result"
    }
   ],
   "source": [
    "f1_score(test_y, svc_pred)"
   ]
  },
  {
   "cell_type": "code",
   "execution_count": 49,
   "id": "cac82981",
   "metadata": {},
   "outputs": [],
   "source": [
    "nb = GaussianNB()"
   ]
  },
  {
   "cell_type": "code",
   "execution_count": 50,
   "id": "e6c1420d",
   "metadata": {},
   "outputs": [
    {
     "data": {
      "text/plain": [
       "GaussianNB()"
      ]
     },
     "execution_count": 50,
     "metadata": {},
     "output_type": "execute_result"
    }
   ],
   "source": [
    "nb.fit(train_X.tolist(), train_y)\n",
    "# nb.fit(train_X, train_y)"
   ]
  },
  {
   "cell_type": "code",
   "execution_count": 51,
   "id": "9c7407ba",
   "metadata": {},
   "outputs": [],
   "source": [
    "nb_pred = nb.predict(test_X.tolist())\n",
    "# nb_pred = nb.predict(test_X)"
   ]
  },
  {
   "cell_type": "code",
   "execution_count": 52,
   "id": "885049d5",
   "metadata": {},
   "outputs": [
    {
     "name": "stdout",
     "output_type": "stream",
     "text": [
      "[[518 111]\n",
      " [277 303]]\n"
     ]
    }
   ],
   "source": [
    "print(confusion_matrix(test_y, nb_pred))"
   ]
  },
  {
   "cell_type": "code",
   "execution_count": 53,
   "id": "7a1c4b22",
   "metadata": {},
   "outputs": [
    {
     "name": "stdout",
     "output_type": "stream",
     "text": [
      "              precision    recall  f1-score   support\n",
      "\n",
      "           0       0.65      0.82      0.73       629\n",
      "           1       0.73      0.52      0.61       580\n",
      "\n",
      "    accuracy                           0.68      1209\n",
      "   macro avg       0.69      0.67      0.67      1209\n",
      "weighted avg       0.69      0.68      0.67      1209\n",
      "\n"
     ]
    }
   ],
   "source": [
    "print(classification_report(test_y, nb_pred))"
   ]
  },
  {
   "cell_type": "code",
   "execution_count": 54,
   "id": "c06ac796",
   "metadata": {},
   "outputs": [
    {
     "data": {
      "text/plain": [
       "0.6790736145574855"
      ]
     },
     "execution_count": 54,
     "metadata": {},
     "output_type": "execute_result"
    }
   ],
   "source": [
    "accuracy_score(test_y, nb_pred)"
   ]
  },
  {
   "cell_type": "code",
   "execution_count": 55,
   "id": "85ef7d06",
   "metadata": {},
   "outputs": [],
   "source": [
    "# svc.predict(np.array(get_bert_embedding_sentence(\"नराम्रो\").tolist()).reshape(1,-1))"
   ]
  },
  {
   "cell_type": "code",
   "execution_count": 56,
   "id": "3b5c9581",
   "metadata": {},
   "outputs": [],
   "source": [
    "# np.array(get_bert_embedding_sentence(\"मलाई यो घर राम्रो लागेन \").tolist()).reshape(1,-1).shape"
   ]
  },
  {
   "cell_type": "code",
   "execution_count": 57,
   "id": "3a89dffe",
   "metadata": {},
   "outputs": [],
   "source": [
    "# len(get_bert_embedding_sentence(\"कति राम्री केटि हो\").tolist())"
   ]
  },
  {
   "cell_type": "code",
   "execution_count": 58,
   "id": "a2bc1d18",
   "metadata": {},
   "outputs": [],
   "source": [
    "rfc = RandomForestClassifier()"
   ]
  },
  {
   "cell_type": "code",
   "execution_count": 59,
   "id": "ade5f19a",
   "metadata": {},
   "outputs": [
    {
     "data": {
      "text/plain": [
       "RandomForestClassifier()"
      ]
     },
     "execution_count": 59,
     "metadata": {},
     "output_type": "execute_result"
    }
   ],
   "source": [
    "rfc.fit(train_X.tolist(),train_y)\n",
    "# rfc.fit(train_X,train_y)"
   ]
  },
  {
   "cell_type": "code",
   "execution_count": 60,
   "id": "f07e7ea7",
   "metadata": {},
   "outputs": [],
   "source": [
    "rfc_predict = rfc.predict(test_X.tolist())\n",
    "# rfc_predict = rfc.predict(test_X)"
   ]
  },
  {
   "cell_type": "code",
   "execution_count": 61,
   "id": "8763fbb0",
   "metadata": {},
   "outputs": [
    {
     "name": "stdout",
     "output_type": "stream",
     "text": [
      "              precision    recall  f1-score   support\n",
      "\n",
      "           0       0.71      0.72      0.72       629\n",
      "           1       0.69      0.68      0.68       580\n",
      "\n",
      "    accuracy                           0.70      1209\n",
      "   macro avg       0.70      0.70      0.70      1209\n",
      "weighted avg       0.70      0.70      0.70      1209\n",
      "\n"
     ]
    }
   ],
   "source": [
    "print(classification_report(test_y, rfc_predict))"
   ]
  },
  {
   "cell_type": "code",
   "execution_count": 62,
   "id": "97212c0b",
   "metadata": {},
   "outputs": [],
   "source": [
    "gfc = GradientBoostingClassifier()"
   ]
  },
  {
   "cell_type": "code",
   "execution_count": 63,
   "id": "61028c59",
   "metadata": {},
   "outputs": [
    {
     "data": {
      "text/plain": [
       "GradientBoostingClassifier()"
      ]
     },
     "execution_count": 63,
     "metadata": {},
     "output_type": "execute_result"
    }
   ],
   "source": [
    "gfc.fit(train_X.tolist(), train_y)\n",
    "# gfc.fit(train_X, train_y)"
   ]
  },
  {
   "cell_type": "code",
   "execution_count": 64,
   "id": "a6f27125",
   "metadata": {},
   "outputs": [],
   "source": [
    "gfc_predict = gfc.predict(test_X.tolist())\n",
    "# gfc_predict = gfc.predict(test_X)"
   ]
  },
  {
   "cell_type": "code",
   "execution_count": 65,
   "id": "257f9352",
   "metadata": {},
   "outputs": [
    {
     "name": "stdout",
     "output_type": "stream",
     "text": [
      "              precision    recall  f1-score   support\n",
      "\n",
      "           0       0.68      0.72      0.70       629\n",
      "           1       0.68      0.64      0.66       580\n",
      "\n",
      "    accuracy                           0.68      1209\n",
      "   macro avg       0.68      0.68      0.68      1209\n",
      "weighted avg       0.68      0.68      0.68      1209\n",
      "\n"
     ]
    }
   ],
   "source": [
    "print(classification_report(test_y, gfc_predict))"
   ]
  },
  {
   "cell_type": "code",
   "execution_count": 66,
   "id": "0b254bad",
   "metadata": {},
   "outputs": [
    {
     "data": {
      "text/plain": [
       "array([0])"
      ]
     },
     "execution_count": 66,
     "metadata": {},
     "output_type": "execute_result"
    }
   ],
   "source": [
    "gfc.predict(np.array(get_bert_embedding_sentence(\"त चोर होस्\").tolist()).reshape(1,-1))"
   ]
  },
  {
   "cell_type": "code",
   "execution_count": 67,
   "id": "0e2f42a7",
   "metadata": {},
   "outputs": [
    {
     "data": {
      "text/plain": [
       "array([1])"
      ]
     },
     "execution_count": 67,
     "metadata": {},
     "output_type": "execute_result"
    }
   ],
   "source": [
    "rfc.predict(np.array(get_bert_embedding_sentence(\"नेपालमा शान्ति छ \").tolist()).reshape(1,-1))"
   ]
  },
  {
   "cell_type": "code",
   "execution_count": 35,
   "id": "b2862c85",
   "metadata": {},
   "outputs": [
    {
     "data": {
      "text/plain": [
       "array([0])"
      ]
     },
     "execution_count": 35,
     "metadata": {},
     "output_type": "execute_result"
    }
   ],
   "source": [
    "# svc.predict(pca.transform(scaler.transform(get_bert_embedding_sentence(\"एस्तो सोच राख्ने मान्छे त मर्नु बरु \").reshape(1,-1))))\n",
    "svc.predict(np.array(get_bert_embedding_sentence(\" एस्तो सोच  राख्ने मान्छे मरे नि\").tolist()).reshape(1,-1))"
   ]
  },
  {
   "cell_type": "code",
   "execution_count": 69,
   "id": "9ee39334",
   "metadata": {},
   "outputs": [
    {
     "data": {
      "text/plain": [
       "'एस्तो सोच राख्ने मान्छे मर्नु'"
      ]
     },
     "execution_count": 69,
     "metadata": {},
     "output_type": "execute_result"
    }
   ],
   "source": [
    "clean_text(\"एस्तो सोच राख्ने मान्छे त मर्नु बरु\")"
   ]
  },
  {
   "cell_type": "code",
   "execution_count": null,
   "id": "88b36e3c",
   "metadata": {},
   "outputs": [],
   "source": []
  },
  {
   "cell_type": "code",
   "execution_count": 70,
   "id": "24c1d0b6",
   "metadata": {},
   "outputs": [
    {
     "data": {
      "text/plain": [
       "0.686292548298068"
      ]
     },
     "execution_count": 70,
     "metadata": {},
     "output_type": "execute_result"
    }
   ],
   "source": [
    "f1_score(test_y,svc_pred)"
   ]
  },
  {
   "cell_type": "code",
   "execution_count": 71,
   "id": "a67963c2",
   "metadata": {},
   "outputs": [
    {
     "data": {
      "text/plain": [
       "0.6096579476861167"
      ]
     },
     "execution_count": 71,
     "metadata": {},
     "output_type": "execute_result"
    }
   ],
   "source": [
    "f1_score(test_y,nb_pred)"
   ]
  },
  {
   "cell_type": "code",
   "execution_count": 72,
   "id": "9aa973c4",
   "metadata": {},
   "outputs": [
    {
     "data": {
      "text/plain": [
       "0.6578249336870027"
      ]
     },
     "execution_count": 72,
     "metadata": {},
     "output_type": "execute_result"
    }
   ],
   "source": [
    "f1_score(test_y,gfc_predict)"
   ]
  },
  {
   "cell_type": "code",
   "execution_count": 73,
   "id": "6470d50d",
   "metadata": {},
   "outputs": [
    {
     "data": {
      "text/plain": [
       "0.6841186736474695"
      ]
     },
     "execution_count": 73,
     "metadata": {},
     "output_type": "execute_result"
    }
   ],
   "source": [
    "f1_score(test_y,rfc_predict)"
   ]
  },
  {
   "cell_type": "code",
   "execution_count": 181,
   "id": "d4d31501",
   "metadata": {},
   "outputs": [
    {
     "data": {
      "text/plain": [
       "618000"
      ]
     },
     "execution_count": 181,
     "metadata": {},
     "output_type": "execute_result"
    }
   ],
   "source": [
    "10300*12*5"
   ]
  },
  {
   "cell_type": "markdown",
   "id": "7f5aec05",
   "metadata": {},
   "source": [
    "## Keras "
   ]
  },
  {
   "cell_type": "code",
   "execution_count": 53,
   "id": "8fe8b04f",
   "metadata": {},
   "outputs": [],
   "source": [
    "from keras.models import Sequential\n",
    "from keras.layers import Dense, LSTM\n",
    "import tensorflow as tf\n",
    "from keras.wrappers.scikit_learn import KerasClassifier \n",
    "from sklearn.model_selection import StratifiedKFold, cross_val_score"
   ]
  },
  {
   "cell_type": "code",
   "execution_count": null,
   "id": "0ee36edc",
   "metadata": {},
   "outputs": [],
   "source": []
  },
  {
   "cell_type": "code",
   "execution_count": 64,
   "id": "19e99d4e",
   "metadata": {},
   "outputs": [],
   "source": [
    "md = Sequential()\n",
    "md.add(Dense(256, input_dim =X[0].shape[0]))\n",
    "md.add(Dense(128, activation = 'relu'))\n",
    "md.add(Dense(12, activation = 'relu'))\n",
    "md.add(Dense(1, activation = 'sigmoid'))\n",
    "md.compile(loss = 'binary_crossentropy', optimizer = 'adam', metrics = ['accuracy'])\n"
   ]
  },
  {
   "cell_type": "code",
   "execution_count": 65,
   "id": "ffb1caeb",
   "metadata": {
    "scrolled": true
   },
   "outputs": [
    {
     "name": "stdout",
     "output_type": "stream",
     "text": [
      "Model: \"sequential_3\"\n",
      "_________________________________________________________________\n",
      " Layer (type)                Output Shape              Param #   \n",
      "=================================================================\n",
      " dense_11 (Dense)            (None, 256)               196864    \n",
      "                                                                 \n",
      " dense_12 (Dense)            (None, 128)               32896     \n",
      "                                                                 \n",
      " dense_13 (Dense)            (None, 12)                1548      \n",
      "                                                                 \n",
      " dense_14 (Dense)            (None, 1)                 13        \n",
      "                                                                 \n",
      "=================================================================\n",
      "Total params: 231,321\n",
      "Trainable params: 231,321\n",
      "Non-trainable params: 0\n",
      "_________________________________________________________________\n"
     ]
    }
   ],
   "source": [
    "md.summary()"
   ]
  },
  {
   "cell_type": "code",
   "execution_count": null,
   "id": "b3d399e3",
   "metadata": {},
   "outputs": [],
   "source": []
  },
  {
   "cell_type": "code",
   "execution_count": null,
   "id": "0526e3bd",
   "metadata": {},
   "outputs": [],
   "source": []
  },
  {
   "cell_type": "code",
   "execution_count": 66,
   "id": "d2ec35ec",
   "metadata": {
    "scrolled": true
   },
   "outputs": [
    {
     "name": "stdout",
     "output_type": "stream",
     "text": [
      "Epoch 1/100\n",
      "70/70 [==============================] - 0s 2ms/step - loss: 0.5711 - accuracy: 0.7057\n",
      "Epoch 2/100\n",
      "70/70 [==============================] - 0s 2ms/step - loss: 0.5095 - accuracy: 0.7479\n",
      "Epoch 3/100\n",
      "70/70 [==============================] - 0s 2ms/step - loss: 0.4869 - accuracy: 0.7559\n",
      "Epoch 4/100\n",
      "70/70 [==============================] - 0s 2ms/step - loss: 0.4655 - accuracy: 0.7804\n",
      "Epoch 5/100\n",
      "70/70 [==============================] - 0s 2ms/step - loss: 0.4512 - accuracy: 0.7795\n",
      "Epoch 6/100\n",
      "70/70 [==============================] - 0s 2ms/step - loss: 0.4136 - accuracy: 0.8062\n",
      "Epoch 7/100\n",
      "70/70 [==============================] - 0s 2ms/step - loss: 0.3944 - accuracy: 0.8149\n",
      "Epoch 8/100\n",
      "70/70 [==============================] - 0s 2ms/step - loss: 0.3699 - accuracy: 0.8321\n",
      "Epoch 9/100\n",
      "70/70 [==============================] - 0s 2ms/step - loss: 0.3376 - accuracy: 0.8480\n",
      "Epoch 10/100\n",
      "70/70 [==============================] - 0s 2ms/step - loss: 0.3213 - accuracy: 0.8490\n",
      "Epoch 11/100\n",
      "70/70 [==============================] - 0s 2ms/step - loss: 0.3029 - accuracy: 0.8654\n",
      "Epoch 12/100\n",
      "70/70 [==============================] - 0s 2ms/step - loss: 0.2675 - accuracy: 0.8767\n",
      "Epoch 13/100\n",
      "70/70 [==============================] - 0s 2ms/step - loss: 0.2565 - accuracy: 0.8860\n",
      "Epoch 14/100\n",
      "70/70 [==============================] - 0s 2ms/step - loss: 0.2467 - accuracy: 0.8896\n",
      "Epoch 15/100\n",
      "70/70 [==============================] - 0s 2ms/step - loss: 0.2394 - accuracy: 0.8964\n",
      "Epoch 16/100\n",
      "70/70 [==============================] - 0s 2ms/step - loss: 0.2149 - accuracy: 0.9030\n",
      "Epoch 17/100\n",
      "70/70 [==============================] - 0s 2ms/step - loss: 0.2440 - accuracy: 0.8873\n",
      "Epoch 18/100\n",
      "70/70 [==============================] - 0s 2ms/step - loss: 0.2152 - accuracy: 0.9034\n",
      "Epoch 19/100\n",
      "70/70 [==============================] - 0s 2ms/step - loss: 0.2026 - accuracy: 0.9111\n",
      "Epoch 20/100\n",
      "70/70 [==============================] - 0s 2ms/step - loss: 0.1843 - accuracy: 0.9150\n",
      "Epoch 21/100\n",
      "70/70 [==============================] - 0s 2ms/step - loss: 0.1788 - accuracy: 0.9171\n",
      "Epoch 22/100\n",
      "70/70 [==============================] - 0s 2ms/step - loss: 0.1652 - accuracy: 0.9195\n",
      "Epoch 23/100\n",
      "70/70 [==============================] - 0s 2ms/step - loss: 0.1735 - accuracy: 0.9229\n",
      "Epoch 24/100\n",
      "70/70 [==============================] - 0s 2ms/step - loss: 0.1750 - accuracy: 0.9175\n",
      "Epoch 25/100\n",
      "70/70 [==============================] - 0s 2ms/step - loss: 0.1652 - accuracy: 0.9208\n",
      "Epoch 26/100\n",
      "70/70 [==============================] - 0s 2ms/step - loss: 0.1557 - accuracy: 0.9280\n",
      "Epoch 27/100\n",
      "70/70 [==============================] - 0s 2ms/step - loss: 0.1538 - accuracy: 0.9241\n",
      "Epoch 28/100\n",
      "70/70 [==============================] - 0s 2ms/step - loss: 0.1767 - accuracy: 0.9198\n",
      "Epoch 29/100\n",
      "70/70 [==============================] - 0s 2ms/step - loss: 0.1603 - accuracy: 0.9274\n",
      "Epoch 30/100\n",
      "70/70 [==============================] - 0s 2ms/step - loss: 0.1549 - accuracy: 0.9243\n",
      "Epoch 31/100\n",
      "70/70 [==============================] - 0s 2ms/step - loss: 0.1429 - accuracy: 0.9272\n",
      "Epoch 32/100\n",
      "70/70 [==============================] - 0s 2ms/step - loss: 0.1664 - accuracy: 0.9200\n",
      "Epoch 33/100\n",
      "70/70 [==============================] - 0s 2ms/step - loss: 0.1455 - accuracy: 0.9328\n",
      "Epoch 34/100\n",
      "70/70 [==============================] - 0s 2ms/step - loss: 0.1595 - accuracy: 0.9226\n",
      "Epoch 35/100\n",
      "70/70 [==============================] - 0s 2ms/step - loss: 0.1407 - accuracy: 0.9293\n",
      "Epoch 36/100\n",
      "70/70 [==============================] - 0s 2ms/step - loss: 0.1424 - accuracy: 0.9286\n",
      "Epoch 37/100\n",
      "70/70 [==============================] - 0s 2ms/step - loss: 0.1389 - accuracy: 0.9328\n",
      "Epoch 38/100\n",
      "70/70 [==============================] - 0s 2ms/step - loss: 0.1434 - accuracy: 0.9266\n",
      "Epoch 39/100\n",
      "70/70 [==============================] - 0s 2ms/step - loss: 0.1379 - accuracy: 0.9317\n",
      "Epoch 40/100\n",
      "70/70 [==============================] - 0s 2ms/step - loss: 0.1295 - accuracy: 0.9311\n",
      "Epoch 41/100\n",
      "70/70 [==============================] - 0s 2ms/step - loss: 0.1398 - accuracy: 0.9303\n",
      "Epoch 42/100\n",
      "70/70 [==============================] - 0s 2ms/step - loss: 0.1372 - accuracy: 0.9305\n",
      "Epoch 43/100\n",
      "70/70 [==============================] - 0s 2ms/step - loss: 0.1316 - accuracy: 0.9332\n",
      "Epoch 44/100\n",
      "70/70 [==============================] - 0s 2ms/step - loss: 0.1257 - accuracy: 0.9346\n",
      "Epoch 45/100\n",
      "70/70 [==============================] - 0s 2ms/step - loss: 0.1257 - accuracy: 0.9301\n",
      "Epoch 46/100\n",
      "70/70 [==============================] - 0s 2ms/step - loss: 0.1227 - accuracy: 0.9326\n",
      "Epoch 47/100\n",
      "70/70 [==============================] - 0s 2ms/step - loss: 0.1191 - accuracy: 0.9336\n",
      "Epoch 48/100\n",
      "70/70 [==============================] - 0s 2ms/step - loss: 0.1180 - accuracy: 0.9328\n",
      "Epoch 49/100\n",
      "70/70 [==============================] - 0s 2ms/step - loss: 0.1213 - accuracy: 0.9313\n",
      "Epoch 50/100\n",
      "70/70 [==============================] - 0s 2ms/step - loss: 0.1466 - accuracy: 0.9274\n",
      "Epoch 51/100\n",
      "70/70 [==============================] - 0s 2ms/step - loss: 0.1363 - accuracy: 0.9309\n",
      "Epoch 52/100\n",
      "70/70 [==============================] - 0s 3ms/step - loss: 0.1227 - accuracy: 0.9338\n",
      "Epoch 53/100\n",
      "70/70 [==============================] - 0s 2ms/step - loss: 0.1286 - accuracy: 0.9305\n",
      "Epoch 54/100\n",
      "70/70 [==============================] - 0s 2ms/step - loss: 0.1236 - accuracy: 0.9301\n",
      "Epoch 55/100\n",
      "70/70 [==============================] - 0s 3ms/step - loss: 0.1163 - accuracy: 0.9301\n",
      "Epoch 56/100\n",
      "70/70 [==============================] - 0s 2ms/step - loss: 0.1212 - accuracy: 0.9336\n",
      "Epoch 57/100\n",
      "70/70 [==============================] - 0s 2ms/step - loss: 0.1128 - accuracy: 0.9344\n",
      "Epoch 58/100\n",
      "70/70 [==============================] - 0s 2ms/step - loss: 0.1115 - accuracy: 0.9342\n",
      "Epoch 59/100\n",
      "70/70 [==============================] - 0s 2ms/step - loss: 0.1117 - accuracy: 0.9332\n",
      "Epoch 60/100\n",
      "70/70 [==============================] - 0s 2ms/step - loss: 0.1222 - accuracy: 0.9332\n",
      "Epoch 61/100\n",
      "70/70 [==============================] - 0s 2ms/step - loss: 0.1294 - accuracy: 0.9307\n",
      "Epoch 62/100\n",
      "70/70 [==============================] - 0s 2ms/step - loss: 0.1290 - accuracy: 0.9299\n",
      "Epoch 63/100\n",
      "70/70 [==============================] - 0s 2ms/step - loss: 0.1422 - accuracy: 0.9280\n",
      "Epoch 64/100\n",
      "70/70 [==============================] - 0s 2ms/step - loss: 0.1183 - accuracy: 0.9359\n",
      "Epoch 65/100\n",
      "70/70 [==============================] - 0s 2ms/step - loss: 0.1218 - accuracy: 0.9315\n",
      "Epoch 66/100\n",
      "70/70 [==============================] - 0s 2ms/step - loss: 0.1293 - accuracy: 0.9297\n",
      "Epoch 67/100\n",
      "70/70 [==============================] - 0s 2ms/step - loss: 0.1184 - accuracy: 0.9326\n",
      "Epoch 68/100\n",
      "70/70 [==============================] - 0s 2ms/step - loss: 0.1116 - accuracy: 0.9330\n",
      "Epoch 69/100\n",
      "70/70 [==============================] - 0s 2ms/step - loss: 0.1103 - accuracy: 0.9357\n",
      "Epoch 70/100\n",
      "70/70 [==============================] - 0s 2ms/step - loss: 0.1894 - accuracy: 0.9142\n",
      "Epoch 71/100\n",
      "70/70 [==============================] - 0s 2ms/step - loss: 0.1331 - accuracy: 0.9334\n",
      "Epoch 72/100\n",
      "70/70 [==============================] - 0s 2ms/step - loss: 0.1275 - accuracy: 0.9313\n",
      "Epoch 73/100\n",
      "70/70 [==============================] - 0s 2ms/step - loss: 0.2124 - accuracy: 0.9059\n",
      "Epoch 74/100\n",
      "70/70 [==============================] - 0s 2ms/step - loss: 0.1497 - accuracy: 0.9278\n",
      "Epoch 75/100\n",
      "70/70 [==============================] - 0s 2ms/step - loss: 0.1153 - accuracy: 0.9369\n",
      "Epoch 76/100\n",
      "70/70 [==============================] - 0s 2ms/step - loss: 0.1464 - accuracy: 0.9260\n",
      "Epoch 77/100\n",
      "70/70 [==============================] - 0s 2ms/step - loss: 0.1136 - accuracy: 0.9353\n",
      "Epoch 78/100\n",
      "70/70 [==============================] - 0s 2ms/step - loss: 0.1138 - accuracy: 0.9373\n",
      "Epoch 79/100\n",
      "70/70 [==============================] - 0s 2ms/step - loss: 0.1089 - accuracy: 0.9367\n",
      "Epoch 80/100\n",
      "70/70 [==============================] - 0s 2ms/step - loss: 0.1044 - accuracy: 0.9363\n",
      "Epoch 81/100\n",
      "70/70 [==============================] - 0s 2ms/step - loss: 0.1058 - accuracy: 0.9340\n",
      "Epoch 82/100\n",
      "70/70 [==============================] - 0s 2ms/step - loss: 0.1034 - accuracy: 0.9355\n",
      "Epoch 83/100\n"
     ]
    },
    {
     "name": "stdout",
     "output_type": "stream",
     "text": [
      "70/70 [==============================] - 0s 2ms/step - loss: 0.1049 - accuracy: 0.9363\n",
      "Epoch 84/100\n",
      "70/70 [==============================] - 0s 2ms/step - loss: 0.0993 - accuracy: 0.9371\n",
      "Epoch 85/100\n",
      "70/70 [==============================] - 0s 2ms/step - loss: 0.1009 - accuracy: 0.9371\n",
      "Epoch 86/100\n",
      "70/70 [==============================] - 0s 2ms/step - loss: 0.1005 - accuracy: 0.9357\n",
      "Epoch 87/100\n",
      "70/70 [==============================] - 0s 2ms/step - loss: 0.1087 - accuracy: 0.9363\n",
      "Epoch 88/100\n",
      "70/70 [==============================] - 0s 2ms/step - loss: 0.1183 - accuracy: 0.9307\n",
      "Epoch 89/100\n",
      "70/70 [==============================] - 0s 2ms/step - loss: 0.1126 - accuracy: 0.9326\n",
      "Epoch 90/100\n",
      "70/70 [==============================] - 0s 2ms/step - loss: 0.1053 - accuracy: 0.9380\n",
      "Epoch 91/100\n",
      "70/70 [==============================] - 0s 2ms/step - loss: 0.1042 - accuracy: 0.9338\n",
      "Epoch 92/100\n",
      "70/70 [==============================] - 0s 2ms/step - loss: 0.1028 - accuracy: 0.9349\n",
      "Epoch 93/100\n",
      "70/70 [==============================] - 0s 2ms/step - loss: 0.0996 - accuracy: 0.9363\n",
      "Epoch 94/100\n",
      "70/70 [==============================] - 0s 1ms/step - loss: 0.1411 - accuracy: 0.9268\n",
      "Epoch 95/100\n",
      "70/70 [==============================] - 0s 2ms/step - loss: 0.1075 - accuracy: 0.9357\n",
      "Epoch 96/100\n",
      "70/70 [==============================] - 0s 2ms/step - loss: 0.1010 - accuracy: 0.9367\n",
      "Epoch 97/100\n",
      "70/70 [==============================] - 0s 2ms/step - loss: 0.1012 - accuracy: 0.9371\n",
      "Epoch 98/100\n",
      "70/70 [==============================] - 0s 2ms/step - loss: 0.1086 - accuracy: 0.9375\n",
      "Epoch 99/100\n",
      "70/70 [==============================] - 0s 2ms/step - loss: 0.1140 - accuracy: 0.9355\n",
      "Epoch 100/100\n",
      "70/70 [==============================] - 0s 2ms/step - loss: 0.1029 - accuracy: 0.9377\n"
     ]
    },
    {
     "data": {
      "text/plain": [
       "<keras.callbacks.History at 0x7f43c58f1d00>"
      ]
     },
     "execution_count": 66,
     "metadata": {},
     "output_type": "execute_result"
    }
   ],
   "source": [
    "md.fit(np.asarray([np.asarray(i) for i in train_X]),np.asarray(train_y),epochs = 100, batch_size =70, verbose = 1)"
   ]
  },
  {
   "cell_type": "code",
   "execution_count": 416,
   "id": "9ca6a3a8",
   "metadata": {},
   "outputs": [],
   "source": [
    "# md.predict(np.asarray(get_bert_embedding_sentence(\"यो घरको वास्तुशास्त्र मिलेको छैन\").tolist()))"
   ]
  },
  {
   "cell_type": "code",
   "execution_count": 67,
   "id": "82afa95c",
   "metadata": {},
   "outputs": [
    {
     "data": {
      "text/plain": [
       "array([[0.9705255]], dtype=float32)"
      ]
     },
     "execution_count": 67,
     "metadata": {},
     "output_type": "execute_result"
    }
   ],
   "source": [
    "md.predict(np.asarray(get_bert_embedding_sentence(\"मलाई एस्तो बकवास चलचित्र मन्पर्दैन \").tolist()).reshape(1,-1))"
   ]
  },
  {
   "cell_type": "code",
   "execution_count": 68,
   "id": "9b3124fb",
   "metadata": {},
   "outputs": [],
   "source": [
    "result = md.predict(np.asarray([np.asarray(i) for i in test_X]))"
   ]
  },
  {
   "cell_type": "code",
   "execution_count": 74,
   "id": "a3f0dd13",
   "metadata": {},
   "outputs": [],
   "source": [
    "res = [0 if i[0]<0.56 else 1 for i in result]"
   ]
  },
  {
   "cell_type": "code",
   "execution_count": 75,
   "id": "de46b34b",
   "metadata": {},
   "outputs": [
    {
     "name": "stdout",
     "output_type": "stream",
     "text": [
      "0.7063903281519861\n"
     ]
    }
   ],
   "source": [
    "print(f1_score(test_y, res))"
   ]
  },
  {
   "cell_type": "code",
   "execution_count": 76,
   "id": "7c09d536",
   "metadata": {},
   "outputs": [
    {
     "name": "stdout",
     "output_type": "stream",
     "text": [
      "              precision    recall  f1-score   support\n",
      "\n",
      "           0       0.73      0.73      0.73       629\n",
      "           1       0.71      0.71      0.71       580\n",
      "\n",
      "    accuracy                           0.72      1209\n",
      "   macro avg       0.72      0.72      0.72      1209\n",
      "weighted avg       0.72      0.72      0.72      1209\n",
      "\n"
     ]
    }
   ],
   "source": [
    "print(classification_report(test_y, res))"
   ]
  },
  {
   "cell_type": "code",
   "execution_count": null,
   "id": "00cd98c8",
   "metadata": {},
   "outputs": [],
   "source": []
  },
  {
   "cell_type": "code",
   "execution_count": 1,
   "id": "7ef81da4",
   "metadata": {},
   "outputs": [
    {
     "data": {
      "text/plain": [
       "618000"
      ]
     },
     "execution_count": 1,
     "metadata": {},
     "output_type": "execute_result"
    }
   ],
   "source": [
    "10300*60"
   ]
  },
  {
   "cell_type": "code",
   "execution_count": 2,
   "id": "4736ee54",
   "metadata": {},
   "outputs": [
    {
     "data": {
      "text/plain": [
       "0.236"
      ]
     },
     "execution_count": 2,
     "metadata": {},
     "output_type": "execute_result"
    }
   ],
   "source": [
    "118000/500000"
   ]
  },
  {
   "cell_type": "code",
   "execution_count": null,
   "id": "3966e6e2",
   "metadata": {},
   "outputs": [],
   "source": []
  }
 ],
 "metadata": {
  "kernelspec": {
   "display_name": "Python 3 (ipykernel)",
   "language": "python",
   "name": "python3"
  },
  "language_info": {
   "codemirror_mode": {
    "name": "ipython",
    "version": 3
   },
   "file_extension": ".py",
   "mimetype": "text/x-python",
   "name": "python",
   "nbconvert_exporter": "python",
   "pygments_lexer": "ipython3",
   "version": "3.8.10"
  }
 },
 "nbformat": 4,
 "nbformat_minor": 5
}
