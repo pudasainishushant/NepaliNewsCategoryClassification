{
 "cells": [
  {
   "cell_type": "code",
   "execution_count": 1,
   "id": "c0794f5d",
   "metadata": {},
   "outputs": [],
   "source": [
    "import os\n",
    "import pandas as pd\n",
    "news_train = {}\n",
    "news_test = {}\n",
    "news = []\n",
    "labels = []\n",
    "\n",
    "\n",
    "directory = \"/home/shushant/Desktop/nlp_projects/NepaliNewsCategoryClassification/data/train\"\n",
    "for filename1 in os.listdir(directory):\n",
    "    for filename in os.listdir(os.path.join(directory,filename1)):\n",
    "        if filename.endswith('.txt'):\n",
    "            # try:\n",
    "            with open(os.path.join(directory,filename1, filename), encoding=\"utf8\", errors='ignore') as f:\n",
    "                content = f.read()\n",
    "                news.append(content)\n",
    "                labels.append(filename1)\n",
    "                news_train = dict(zip(news,labels))\n",
    "\n",
    "\n",
    "directory = \"/home/shushant/Desktop/nlp_projects/NepaliNewsCategoryClassification/data/test\"\n",
    "for filename1 in os.listdir(directory):\n",
    "    for filename in os.listdir(os.path.join(directory,filename1)):\n",
    "        if filename.endswith('.txt'):\n",
    "            # try:\n",
    "            with open(os.path.join(directory,filename1, filename), encoding=\"utf8\", errors='ignore') as f:\n",
    "                content = f.read()\n",
    "                news.append(content)\n",
    "                labels.append(filename1)\n",
    "                news_test = dict(zip(news,labels))\n"
   ]
  },
  {
   "cell_type": "code",
   "execution_count": 2,
   "id": "2566e46f",
   "metadata": {},
   "outputs": [],
   "source": [
    "news_df_train = pd.DataFrame(news_train.items(), columns=['news', 'labels'])"
   ]
  },
  {
   "cell_type": "code",
   "execution_count": 3,
   "id": "dc6f291d",
   "metadata": {},
   "outputs": [],
   "source": [
    "news_df_test = pd.DataFrame(news_test.items(), columns=['news', 'labels'])"
   ]
  },
  {
   "cell_type": "code",
   "execution_count": 4,
   "id": "3b0a6e93",
   "metadata": {},
   "outputs": [
    {
     "data": {
      "text/plain": [
       "(12910, 2)"
      ]
     },
     "execution_count": 4,
     "metadata": {},
     "output_type": "execute_result"
    }
   ],
   "source": [
    "news_df_train.shape"
   ]
  },
  {
   "cell_type": "code",
   "execution_count": 5,
   "id": "f2d20654",
   "metadata": {},
   "outputs": [
    {
     "data": {
      "text/plain": [
       "(14356, 2)"
      ]
     },
     "execution_count": 5,
     "metadata": {},
     "output_type": "execute_result"
    }
   ],
   "source": [
    "news_df_test.shape"
   ]
  },
  {
   "cell_type": "code",
   "execution_count": 6,
   "id": "e6a975fb",
   "metadata": {},
   "outputs": [],
   "source": [
    "news_df = pd.concat([news_df_train,news_df_test])"
   ]
  },
  {
   "cell_type": "code",
   "execution_count": 7,
   "id": "c9619a24",
   "metadata": {},
   "outputs": [
    {
     "data": {
      "text/plain": [
       "(27266, 2)"
      ]
     },
     "execution_count": 7,
     "metadata": {},
     "output_type": "execute_result"
    }
   ],
   "source": [
    "news_df.shape"
   ]
  },
  {
   "cell_type": "code",
   "execution_count": 8,
   "id": "170b241f",
   "metadata": {},
   "outputs": [
    {
     "data": {
      "text/plain": [
       "National News         14148\n",
       "Sports                 4341\n",
       "Economy                2255\n",
       "Entertainment          2230\n",
       "Opinion                1120\n",
       "Bank                    666\n",
       "Tourism                 406\n",
       "World                   402\n",
       "Blog                    397\n",
       "Employment              288\n",
       "Business Interview      269\n",
       "Technology              208\n",
       "Auto                    180\n",
       "Interview               165\n",
       "Education               161\n",
       "Literature               30\n",
       "Name: labels, dtype: int64"
      ]
     },
     "execution_count": 8,
     "metadata": {},
     "output_type": "execute_result"
    }
   ],
   "source": [
    "news_df[\"labels\"].value_counts()"
   ]
  },
  {
   "cell_type": "code",
   "execution_count": 9,
   "id": "2be95dd3",
   "metadata": {},
   "outputs": [
    {
     "data": {
      "text/html": [
       "<div>\n",
       "<style scoped>\n",
       "    .dataframe tbody tr th:only-of-type {\n",
       "        vertical-align: middle;\n",
       "    }\n",
       "\n",
       "    .dataframe tbody tr th {\n",
       "        vertical-align: top;\n",
       "    }\n",
       "\n",
       "    .dataframe thead th {\n",
       "        text-align: right;\n",
       "    }\n",
       "</style>\n",
       "<table border=\"1\" class=\"dataframe\">\n",
       "  <thead>\n",
       "    <tr style=\"text-align: right;\">\n",
       "      <th></th>\n",
       "      <th>news</th>\n",
       "      <th>labels</th>\n",
       "    </tr>\n",
       "  </thead>\n",
       "  <tbody>\n",
       "    <tr>\n",
       "      <th>0</th>\n",
       "      <td>\\n﻿कारोबार संवाददाता\\nकाठमाडौं, ९ असार\\nगैरआवा...</td>\n",
       "      <td>Employment</td>\n",
       "    </tr>\n",
       "    <tr>\n",
       "      <th>1</th>\n",
       "      <td>\\n﻿\\n४ पुस, काठमाडौं । १८ वर्षमा पहिलोपटक मेले...</td>\n",
       "      <td>Employment</td>\n",
       "    </tr>\n",
       "    <tr>\n",
       "      <th>2</th>\n",
       "      <td>\\n﻿काठमाडौं । नेपाल प्रहरीले नयाँ भर्ना खुलाएक...</td>\n",
       "      <td>Employment</td>\n",
       "    </tr>\n",
       "    <tr>\n",
       "      <th>3</th>\n",
       "      <td>\\n﻿यूएई, १४  माघ – वैदेशिक रोजगारीका लागि उत्क...</td>\n",
       "      <td>Employment</td>\n",
       "    </tr>\n",
       "    <tr>\n",
       "      <th>4</th>\n",
       "      <td>\\n﻿\\n१६ वैशाख, काठमाडौं । ‘काम पाइएन डिग्री पा...</td>\n",
       "      <td>Employment</td>\n",
       "    </tr>\n",
       "    <tr>\n",
       "      <th>...</th>\n",
       "      <td>...</td>\n",
       "      <td>...</td>\n",
       "    </tr>\n",
       "    <tr>\n",
       "      <th>14351</th>\n",
       "      <td>\\n﻿श्रावण २९, काठमाण्डौं । भारतीय स्मार्टफोन न...</td>\n",
       "      <td>Technology</td>\n",
       "    </tr>\n",
       "    <tr>\n",
       "      <th>14352</th>\n",
       "      <td>\\n﻿एन्टिभाइरसले कम्प्युटरको लागि एउटा सुरक्षा ...</td>\n",
       "      <td>Technology</td>\n",
       "    </tr>\n",
       "    <tr>\n",
       "      <th>14353</th>\n",
       "      <td>\\n﻿फेसबुकले आफ्ना प्रयोगकर्ताको गेम खेल्ने आदत...</td>\n",
       "      <td>Technology</td>\n",
       "    </tr>\n",
       "    <tr>\n",
       "      <th>14354</th>\n",
       "      <td>\\n﻿श्रावण २१, काठमाण्डौं । युरोपका वैज्ञानिकहर...</td>\n",
       "      <td>Technology</td>\n",
       "    </tr>\n",
       "    <tr>\n",
       "      <th>14355</th>\n",
       "      <td>\\n﻿युवाहरुमा निकै लोकप्रिय रहेको निःशुल्क फोटो...</td>\n",
       "      <td>Technology</td>\n",
       "    </tr>\n",
       "  </tbody>\n",
       "</table>\n",
       "<p>27266 rows × 2 columns</p>\n",
       "</div>"
      ],
      "text/plain": [
       "                                                    news      labels\n",
       "0      \\n﻿कारोबार संवाददाता\\nकाठमाडौं, ९ असार\\nगैरआवा...  Employment\n",
       "1      \\n﻿\\n४ पुस, काठमाडौं । १८ वर्षमा पहिलोपटक मेले...  Employment\n",
       "2      \\n﻿काठमाडौं । नेपाल प्रहरीले नयाँ भर्ना खुलाएक...  Employment\n",
       "3      \\n﻿यूएई, १४  माघ – वैदेशिक रोजगारीका लागि उत्क...  Employment\n",
       "4      \\n﻿\\n१६ वैशाख, काठमाडौं । ‘काम पाइएन डिग्री पा...  Employment\n",
       "...                                                  ...         ...\n",
       "14351  \\n﻿श्रावण २९, काठमाण्डौं । भारतीय स्मार्टफोन न...  Technology\n",
       "14352  \\n﻿एन्टिभाइरसले कम्प्युटरको लागि एउटा सुरक्षा ...  Technology\n",
       "14353  \\n﻿फेसबुकले आफ्ना प्रयोगकर्ताको गेम खेल्ने आदत...  Technology\n",
       "14354  \\n﻿श्रावण २१, काठमाण्डौं । युरोपका वैज्ञानिकहर...  Technology\n",
       "14355  \\n﻿युवाहरुमा निकै लोकप्रिय रहेको निःशुल्क फोटो...  Technology\n",
       "\n",
       "[27266 rows x 2 columns]"
      ]
     },
     "execution_count": 9,
     "metadata": {},
     "output_type": "execute_result"
    }
   ],
   "source": [
    "news_df"
   ]
  },
  {
   "cell_type": "code",
   "execution_count": 10,
   "id": "fbc6872d",
   "metadata": {},
   "outputs": [],
   "source": [
    "import string\n",
    "import os\n",
    "import sys\n",
    "import re\n",
    "\n",
    "class Preprocessor:\n",
    "    # def __init__(self):\n",
    "        # self.this_dir, self.this_file = os.path.split(__file__)\n",
    "\n",
    "    def clean_text(self,text):\n",
    "        '''\n",
    "        accepts the plain text and makes\n",
    "        use of regex for cleaning the noise\n",
    "        :param: text :type:str\n",
    "        :return:cleaned text :type str\n",
    "        '''\n",
    "        text = text.replace(\"\\n\",\"\")\n",
    "        text = text.replace(\"\\t\",\"\")\n",
    "        text = text.replace(\"\\ufeff\",\"\")\n",
    "        #remove all the special characters\n",
    "        symbols = \"।,;?!—-.\"\n",
    "        remove_symbols = str.maketrans('', '', symbols)\n",
    "        text = text.translate(remove_symbols)\n",
    "        # remove digits\n",
    "        digits = \"०१२३४५६७८९\"\n",
    "        remove_digits = str.maketrans('', '', digits)\n",
    "        text = text.translate(remove_digits)\n",
    "        return text\n",
    "        # try:\n",
    "        #     text = text.encode('ascii', errors='ignore').decode(\"utf-8\")\n",
    "        #     return text\n",
    "        # except:\n",
    "        #     return text\n",
    "    \n",
    "\n",
    "    def sentence_tokenize(self, text):\n",
    "        \"\"\"This function tokenize the sentences\n",
    "        \n",
    "        Arguments:\n",
    "            text {string} -- Sentences you want to tokenize\n",
    "        \n",
    "        Returns:\n",
    "            sentence {list} -- tokenized sentence in list\n",
    "        \"\"\"\n",
    "        sentences = text.strip().split(u\"।\")\n",
    "        sentences = [sentence.translate(str.maketrans('', '', string.punctuation)) for sentence in sentences]\n",
    "        return sentences\n",
    "\n",
    "    def word_tokenize(self, sentence, new_punctuation=[]):\n",
    "        \"\"\"This function tokenize with respect to word\n",
    "        \n",
    "        Arguments:\n",
    "            sentence {string} -- sentence you want to tokenize\n",
    "            new_punctuation {list} -- more punctutaion for tokenizing  default ['।',',',';','?','!','—','-']\n",
    "        \n",
    "        Returns:\n",
    "            list -- tokenized words\n",
    "        \"\"\"\n",
    "        punctuations = ['।', ',', ';', '?', '!', '—', '-', '.']\n",
    "        if new_punctuation:\n",
    "            punctuations = set(punctuations + new_punctuation)\n",
    "\n",
    "        for punct in punctuations:\n",
    "            sentence = ' '.join(sentence.split(punct))\n",
    "\n",
    "        return sentence.split()\n",
    "\n",
    "    def character_tokenize(self, word):\n",
    "        \"\"\" Returns the tokenization in character level.\n",
    "        \n",
    "        Arguments:\n",
    "            word {string} -- word to be tokenized in character level.\n",
    "        \n",
    "        Returns:\n",
    "            [list] -- list of characters\n",
    "        \"\"\"\n",
    "        try:\n",
    "            import icu\n",
    "\n",
    "        except:\n",
    "            print(\"please install PyICU\")\n",
    "        \n",
    "        temp_ = icu.BreakIterator.createCharacterInstance(icu.Locale())\n",
    "        temp_.setText(word)\n",
    "        char = []\n",
    "        i = 0\n",
    "        for j in temp_:\n",
    "            s = word[i:j]\n",
    "            char.append(s)\n",
    "            i = j\n",
    "\n",
    "        return char"
   ]
  },
  {
   "cell_type": "code",
   "execution_count": 11,
   "id": "44f5691c",
   "metadata": {},
   "outputs": [],
   "source": [
    "nep_preprocessor = Preprocessor()"
   ]
  },
  {
   "cell_type": "code",
   "execution_count": 12,
   "id": "7cfdd217",
   "metadata": {},
   "outputs": [],
   "source": [
    "news_df['cleaned_news'] = news_df['news'].apply(nep_preprocessor.clean_text)"
   ]
  },
  {
   "cell_type": "code",
   "execution_count": 13,
   "id": "aeab7d81",
   "metadata": {},
   "outputs": [
    {
     "data": {
      "text/html": [
       "<div>\n",
       "<style scoped>\n",
       "    .dataframe tbody tr th:only-of-type {\n",
       "        vertical-align: middle;\n",
       "    }\n",
       "\n",
       "    .dataframe tbody tr th {\n",
       "        vertical-align: top;\n",
       "    }\n",
       "\n",
       "    .dataframe thead th {\n",
       "        text-align: right;\n",
       "    }\n",
       "</style>\n",
       "<table border=\"1\" class=\"dataframe\">\n",
       "  <thead>\n",
       "    <tr style=\"text-align: right;\">\n",
       "      <th></th>\n",
       "      <th>news</th>\n",
       "      <th>labels</th>\n",
       "      <th>cleaned_news</th>\n",
       "    </tr>\n",
       "  </thead>\n",
       "  <tbody>\n",
       "    <tr>\n",
       "      <th>0</th>\n",
       "      <td>\\n﻿कारोबार संवाददाता\\nकाठमाडौं, ९ असार\\nगैरआवा...</td>\n",
       "      <td>Employment</td>\n",
       "      <td>कारोबार संवाददाताकाठमाडौं  असारगैरआवासीय नेपाल...</td>\n",
       "    </tr>\n",
       "    <tr>\n",
       "      <th>1</th>\n",
       "      <td>\\n﻿\\n४ पुस, काठमाडौं । १८ वर्षमा पहिलोपटक मेले...</td>\n",
       "      <td>Employment</td>\n",
       "      <td>पुस काठमाडौं   वर्षमा पहिलोपटक मेलेसियाली मुद...</td>\n",
       "    </tr>\n",
       "    <tr>\n",
       "      <th>2</th>\n",
       "      <td>\\n﻿काठमाडौं । नेपाल प्रहरीले नयाँ भर्ना खुलाएक...</td>\n",
       "      <td>Employment</td>\n",
       "      <td>काठमाडौं  नेपाल प्रहरीले नयाँ भर्ना खुलाएको छ ...</td>\n",
       "    </tr>\n",
       "    <tr>\n",
       "      <th>3</th>\n",
       "      <td>\\n﻿यूएई, १४  माघ – वैदेशिक रोजगारीका लागि उत्क...</td>\n",
       "      <td>Employment</td>\n",
       "      <td>यूएई   माघ – वैदेशिक रोजगारीका लागि उत्कृष्ट ग...</td>\n",
       "    </tr>\n",
       "    <tr>\n",
       "      <th>4</th>\n",
       "      <td>\\n﻿\\n१६ वैशाख, काठमाडौं । ‘काम पाइएन डिग्री पा...</td>\n",
       "      <td>Employment</td>\n",
       "      <td>वैशाख काठमाडौं  ‘काम पाइएन डिग्री पास गरेर भै...</td>\n",
       "    </tr>\n",
       "    <tr>\n",
       "      <th>...</th>\n",
       "      <td>...</td>\n",
       "      <td>...</td>\n",
       "      <td>...</td>\n",
       "    </tr>\n",
       "    <tr>\n",
       "      <th>14351</th>\n",
       "      <td>\\n﻿श्रावण २९, काठमाण्डौं । भारतीय स्मार्टफोन न...</td>\n",
       "      <td>Technology</td>\n",
       "      <td>श्रावण  काठमाण्डौं  भारतीय स्मार्टफोन निर्यात ...</td>\n",
       "    </tr>\n",
       "    <tr>\n",
       "      <th>14352</th>\n",
       "      <td>\\n﻿एन्टिभाइरसले कम्प्युटरको लागि एउटा सुरक्षा ...</td>\n",
       "      <td>Technology</td>\n",
       "      <td>एन्टिभाइरसले कम्प्युटरको लागि एउटा सुरक्षा कवच...</td>\n",
       "    </tr>\n",
       "    <tr>\n",
       "      <th>14353</th>\n",
       "      <td>\\n﻿फेसबुकले आफ्ना प्रयोगकर्ताको गेम खेल्ने आदत...</td>\n",
       "      <td>Technology</td>\n",
       "      <td>फेसबुकले आफ्ना प्रयोगकर्ताको गेम खेल्ने आदतको ...</td>\n",
       "    </tr>\n",
       "    <tr>\n",
       "      <th>14354</th>\n",
       "      <td>\\n﻿श्रावण २१, काठमाण्डौं । युरोपका वैज्ञानिकहर...</td>\n",
       "      <td>Technology</td>\n",
       "      <td>श्रावण  काठमाण्डौं  युरोपका वैज्ञानिकहरुले एक ...</td>\n",
       "    </tr>\n",
       "    <tr>\n",
       "      <th>14355</th>\n",
       "      <td>\\n﻿युवाहरुमा निकै लोकप्रिय रहेको निःशुल्क फोटो...</td>\n",
       "      <td>Technology</td>\n",
       "      <td>युवाहरुमा निकै लोकप्रिय रहेको निःशुल्क फोटो तथ...</td>\n",
       "    </tr>\n",
       "  </tbody>\n",
       "</table>\n",
       "<p>27266 rows × 3 columns</p>\n",
       "</div>"
      ],
      "text/plain": [
       "                                                    news      labels  \\\n",
       "0      \\n﻿कारोबार संवाददाता\\nकाठमाडौं, ९ असार\\nगैरआवा...  Employment   \n",
       "1      \\n﻿\\n४ पुस, काठमाडौं । १८ वर्षमा पहिलोपटक मेले...  Employment   \n",
       "2      \\n﻿काठमाडौं । नेपाल प्रहरीले नयाँ भर्ना खुलाएक...  Employment   \n",
       "3      \\n﻿यूएई, १४  माघ – वैदेशिक रोजगारीका लागि उत्क...  Employment   \n",
       "4      \\n﻿\\n१६ वैशाख, काठमाडौं । ‘काम पाइएन डिग्री पा...  Employment   \n",
       "...                                                  ...         ...   \n",
       "14351  \\n﻿श्रावण २९, काठमाण्डौं । भारतीय स्मार्टफोन न...  Technology   \n",
       "14352  \\n﻿एन्टिभाइरसले कम्प्युटरको लागि एउटा सुरक्षा ...  Technology   \n",
       "14353  \\n﻿फेसबुकले आफ्ना प्रयोगकर्ताको गेम खेल्ने आदत...  Technology   \n",
       "14354  \\n﻿श्रावण २१, काठमाण्डौं । युरोपका वैज्ञानिकहर...  Technology   \n",
       "14355  \\n﻿युवाहरुमा निकै लोकप्रिय रहेको निःशुल्क फोटो...  Technology   \n",
       "\n",
       "                                            cleaned_news  \n",
       "0      कारोबार संवाददाताकाठमाडौं  असारगैरआवासीय नेपाल...  \n",
       "1       पुस काठमाडौं   वर्षमा पहिलोपटक मेलेसियाली मुद...  \n",
       "2      काठमाडौं  नेपाल प्रहरीले नयाँ भर्ना खुलाएको छ ...  \n",
       "3      यूएई   माघ – वैदेशिक रोजगारीका लागि उत्कृष्ट ग...  \n",
       "4       वैशाख काठमाडौं  ‘काम पाइएन डिग्री पास गरेर भै...  \n",
       "...                                                  ...  \n",
       "14351  श्रावण  काठमाण्डौं  भारतीय स्मार्टफोन निर्यात ...  \n",
       "14352  एन्टिभाइरसले कम्प्युटरको लागि एउटा सुरक्षा कवच...  \n",
       "14353  फेसबुकले आफ्ना प्रयोगकर्ताको गेम खेल्ने आदतको ...  \n",
       "14354  श्रावण  काठमाण्डौं  युरोपका वैज्ञानिकहरुले एक ...  \n",
       "14355  युवाहरुमा निकै लोकप्रिय रहेको निःशुल्क फोटो तथ...  \n",
       "\n",
       "[27266 rows x 3 columns]"
      ]
     },
     "execution_count": 13,
     "metadata": {},
     "output_type": "execute_result"
    }
   ],
   "source": [
    "news_df"
   ]
  },
  {
   "cell_type": "code",
   "execution_count": 14,
   "id": "4100a133",
   "metadata": {},
   "outputs": [],
   "source": [
    "import os\n",
    "# from gensim.models.doc2vec import Doc2Vec\n",
    "# from nepali_data_preprocesser import Preprocessor\n",
    "import string\n",
    "import sys\n",
    "import re\n",
    "import pandas as pd \n",
    "import numpy\n",
    "from sklearn.svm import SVC\n",
    "from sklearn.ensemble import GradientBoostingClassifier, RandomForestClassifier\n",
    "from sklearn.model_selection import train_test_split\n",
    "from sklearn.metrics import f1_score, classification_report, confusion_matrix\n",
    "from nltk.corpus import stopwords\n",
    "# from NepaliLemmatizermaster.Lemmatization.lemmatizer import return_lemma_word\n",
    "\n",
    "\n",
    "\n",
    "# model = Doc2Vec.load(\"/home/info/Desktop/pudasaini/nepali_embedding/bakya2vec/model/bakya2vec_lg.model\")"
   ]
  },
  {
   "cell_type": "code",
   "execution_count": 15,
   "id": "47692c0b",
   "metadata": {},
   "outputs": [],
   "source": [
    "corpus = news_df['cleaned_news'].tolist()"
   ]
  },
  {
   "cell_type": "markdown",
   "id": "ed1b1a75",
   "metadata": {},
   "source": [
    "# TFIDF"
   ]
  },
  {
   "cell_type": "code",
   "execution_count": 43,
   "id": "4bd09f43",
   "metadata": {},
   "outputs": [],
   "source": [
    "from sklearn.feature_extraction.text import TfidfVectorizer\n",
    "vectorizer = TfidfVectorizer()\n",
    "Tfidf_vect = vectorizer.fit_transform(corpus)\n"
   ]
  },
  {
   "cell_type": "code",
   "execution_count": 44,
   "id": "b7134050",
   "metadata": {},
   "outputs": [],
   "source": [
    "X,y = news_df['cleaned_news'], news_df['labels']\n",
    "train_X,  test_X, train_y, test_y = train_test_split(X,y, test_size = 0.25, random_state = 520)"
   ]
  },
  {
   "cell_type": "code",
   "execution_count": 47,
   "id": "800e77a4",
   "metadata": {},
   "outputs": [],
   "source": [
    "Train_X_Tfidf = vectorizer.fit_transform(train_X)\n",
    "Test_X_Tfidf = vectorizer.transform(test_X)"
   ]
  },
  {
   "cell_type": "code",
   "execution_count": 49,
   "id": "937f53a6",
   "metadata": {},
   "outputs": [],
   "source": [
    "from sklearn import model_selection, naive_bayes, svm\n",
    "# fit the training dataset on the NB classifier\n",
    "Naive = naive_bayes.MultinomialNB()\n",
    "Naive.fit(Train_X_Tfidf,train_y)\n",
    "# predict the labels on validation dataset\n",
    "predictions_NB = Naive.predict(Test_X_Tfidf)\n"
   ]
  },
  {
   "cell_type": "code",
   "execution_count": 52,
   "id": "a63cbf81",
   "metadata": {},
   "outputs": [
    {
     "data": {
      "text/plain": [
       "array([[   0,    0,    0,    0,    0,    0,    0,    0,    0,    0,   50,\n",
       "           0,    0,    0,    0,    0],\n",
       "       [   0,    2,    0,    0,    0,    0,    0,    0,    0,    0,  164,\n",
       "           0,    0,    0,    0,    0],\n",
       "       [   0,    0,    0,    0,    0,    0,    0,    0,    0,    0,  102,\n",
       "           0,    0,    0,    0,    0],\n",
       "       [   0,    0,    0,    0,    0,    0,    0,    0,    0,    0,   55,\n",
       "           0,    0,    0,    0,    0],\n",
       "       [   0,    0,    0,    0,    0,    0,    0,    0,    0,    0,  544,\n",
       "           0,    3,    0,    0,    0],\n",
       "       [   0,    0,    0,    0,    0,    0,    0,    0,    0,    0,   49,\n",
       "           0,    0,    0,    0,    0],\n",
       "       [   0,    0,    0,    0,    0,    0,    0,    0,    0,    0,   74,\n",
       "           0,    0,    0,    0,    0],\n",
       "       [   0,    2,    0,    0,    0,    0,    0,   51,    0,    0,  542,\n",
       "           0,    3,    0,    0,    0],\n",
       "       [   0,    0,    0,    0,    0,    0,    0,    0,    0,    0,   36,\n",
       "           0,    1,    0,    0,    0],\n",
       "       [   0,    0,    0,    0,    0,    0,    0,    1,    0,    0,    6,\n",
       "           0,    0,    0,    0,    0],\n",
       "       [   0,    0,    0,    0,    0,    0,    0,    0,    0,    0, 3455,\n",
       "           0,   45,    0,    0,    0],\n",
       "       [   0,    0,    0,    0,    0,    0,    0,    0,    0,    0,  272,\n",
       "           0,    0,    0,    0,    0],\n",
       "       [   0,    0,    0,    0,    0,    0,    0,    0,    0,    0,  576,\n",
       "           0,  514,    0,    0,    0],\n",
       "       [   0,    0,    0,    0,    0,    0,    0,    0,    0,    0,   53,\n",
       "           0,    0,    0,    0,    0],\n",
       "       [   0,    0,    0,    0,    0,    0,    0,    0,    0,    0,  110,\n",
       "           0,    1,    0,    0,    0],\n",
       "       [   0,    0,    0,    0,    0,    0,    0,    0,    0,    0,  106,\n",
       "           0,    0,    0,    0,    0]])"
      ]
     },
     "execution_count": 52,
     "metadata": {},
     "output_type": "execute_result"
    }
   ],
   "source": [
    "from sklearn.metrics import confusion_matrix\n",
    "confusion_matrix(test_y, predictions_NB)"
   ]
  },
  {
   "cell_type": "code",
   "execution_count": 54,
   "id": "74516dc2",
   "metadata": {
    "scrolled": true
   },
   "outputs": [
    {
     "name": "stdout",
     "output_type": "stream",
     "text": [
      "                    precision    recall  f1-score   support\n",
      "\n",
      "              Auto       0.00      0.00      0.00        50\n",
      "              Bank       0.50      0.01      0.02       166\n",
      "              Blog       0.00      0.00      0.00       102\n",
      "Business Interview       0.00      0.00      0.00        55\n",
      "           Economy       0.00      0.00      0.00       547\n",
      "         Education       0.00      0.00      0.00        49\n",
      "        Employment       0.00      0.00      0.00        74\n",
      "     Entertainment       0.98      0.09      0.16       598\n",
      "         Interview       0.00      0.00      0.00        37\n",
      "        Literature       0.00      0.00      0.00         7\n",
      "     National News       0.56      0.99      0.71      3500\n",
      "           Opinion       0.00      0.00      0.00       272\n",
      "            Sports       0.91      0.47      0.62      1090\n",
      "        Technology       0.00      0.00      0.00        53\n",
      "           Tourism       0.00      0.00      0.00       111\n",
      "             World       0.00      0.00      0.00       106\n",
      "\n",
      "          accuracy                           0.59      6817\n",
      "         macro avg       0.18      0.10      0.09      6817\n",
      "      weighted avg       0.53      0.59      0.48      6817\n",
      "\n"
     ]
    },
    {
     "name": "stderr",
     "output_type": "stream",
     "text": [
      "/home/shushant/anaconda3/envs/mix/lib/python3.7/site-packages/sklearn/metrics/_classification.py:1318: UndefinedMetricWarning: Precision and F-score are ill-defined and being set to 0.0 in labels with no predicted samples. Use `zero_division` parameter to control this behavior.\n",
      "  _warn_prf(average, modifier, msg_start, len(result))\n",
      "/home/shushant/anaconda3/envs/mix/lib/python3.7/site-packages/sklearn/metrics/_classification.py:1318: UndefinedMetricWarning: Precision and F-score are ill-defined and being set to 0.0 in labels with no predicted samples. Use `zero_division` parameter to control this behavior.\n",
      "  _warn_prf(average, modifier, msg_start, len(result))\n",
      "/home/shushant/anaconda3/envs/mix/lib/python3.7/site-packages/sklearn/metrics/_classification.py:1318: UndefinedMetricWarning: Precision and F-score are ill-defined and being set to 0.0 in labels with no predicted samples. Use `zero_division` parameter to control this behavior.\n",
      "  _warn_prf(average, modifier, msg_start, len(result))\n"
     ]
    }
   ],
   "source": [
    "from sklearn.metrics import classification_report\n",
    "print(classification_report(test_y, predictions_NB))"
   ]
  },
  {
   "cell_type": "code",
   "execution_count": 55,
   "id": "e4b6c6c3",
   "metadata": {},
   "outputs": [],
   "source": [
    "svc = SVC()\n"
   ]
  },
  {
   "cell_type": "code",
   "execution_count": null,
   "id": "250fa619",
   "metadata": {
    "scrolled": true
   },
   "outputs": [],
   "source": [
    "svc.fit(Train_X_Tfidf,train_y)"
   ]
  },
  {
   "cell_type": "code",
   "execution_count": null,
   "id": "39cc70bc",
   "metadata": {},
   "outputs": [],
   "source": [
    "svc_predict = svc.predict(Test_X_Tfidf)"
   ]
  },
  {
   "cell_type": "code",
   "execution_count": null,
   "id": "4cbc6feb",
   "metadata": {},
   "outputs": [],
   "source": [
    "svc_predict"
   ]
  },
  {
   "cell_type": "code",
   "execution_count": null,
   "id": "2f6bca83",
   "metadata": {},
   "outputs": [],
   "source": [
    "from sklearn.metrics import confusion_matrix\n",
    "confusion_matrix(test_y, svc_predict)"
   ]
  },
  {
   "cell_type": "code",
   "execution_count": null,
   "id": "5bb5a9c0",
   "metadata": {},
   "outputs": [],
   "source": [
    "from sklearn.metrics import classification_report\n",
    "print(classification_report(test_y, svc_predict))"
   ]
  },
  {
   "cell_type": "code",
   "execution_count": null,
   "id": "8ccac05c",
   "metadata": {},
   "outputs": [],
   "source": []
  },
  {
   "cell_type": "markdown",
   "id": "daf5d19a",
   "metadata": {},
   "source": [
    "# DOC2VEC"
   ]
  },
  {
   "cell_type": "code",
   "execution_count": 189,
   "id": "d5ebd841",
   "metadata": {},
   "outputs": [],
   "source": [
    "def find_embedding(text):\n",
    "    text = re.sub(r\"[|a-zA-z.'#0-9@,:?'\\u200b\\u200c\\u200d!/&~-]\",'',text)\n",
    "    tokenized_text = nep_preprocessor.word_tokenize(text)\n",
    "    text_embedding = model.infer_vector(tokenized_text)\n",
    "    return text_embedding"
   ]
  },
  {
   "cell_type": "code",
   "execution_count": 190,
   "id": "db38b369",
   "metadata": {},
   "outputs": [],
   "source": [
    "news_df['embeddings'] = news_df['cleaned_news'].apply(find_embedding)"
   ]
  },
  {
   "cell_type": "code",
   "execution_count": 192,
   "id": "57053d32",
   "metadata": {},
   "outputs": [
    {
     "data": {
      "text/html": [
       "<div>\n",
       "<style scoped>\n",
       "    .dataframe tbody tr th:only-of-type {\n",
       "        vertical-align: middle;\n",
       "    }\n",
       "\n",
       "    .dataframe tbody tr th {\n",
       "        vertical-align: top;\n",
       "    }\n",
       "\n",
       "    .dataframe thead th {\n",
       "        text-align: right;\n",
       "    }\n",
       "</style>\n",
       "<table border=\"1\" class=\"dataframe\">\n",
       "  <thead>\n",
       "    <tr style=\"text-align: right;\">\n",
       "      <th></th>\n",
       "      <th>news</th>\n",
       "      <th>labels</th>\n",
       "      <th>cleaned_news</th>\n",
       "      <th>embeddings</th>\n",
       "    </tr>\n",
       "  </thead>\n",
       "  <tbody>\n",
       "    <tr>\n",
       "      <th>0</th>\n",
       "      <td>\\n﻿नायक श्रीकृष्ण श्रेष्ठकी श्रीमति अर्थात नाय...</td>\n",
       "      <td>Entertainment</td>\n",
       "      <td>नायक श्रीकृष्ण श्रेष्ठकी श्रीमति अर्थात नायिका...</td>\n",
       "      <td>[-0.080443375, 0.2827489, 0.83980685, 0.197515...</td>\n",
       "    </tr>\n",
       "    <tr>\n",
       "      <th>1</th>\n",
       "      <td>\\n﻿फिल्मको पर्दामा हेरेर मन भर्नुपर्ने नायिकाह...</td>\n",
       "      <td>Entertainment</td>\n",
       "      <td>फिल्मको पर्दामा हेरेर मन भर्नुपर्ने नायिकाहरु ...</td>\n",
       "      <td>[-0.860313, -0.71543497, 0.2471731, 0.50896996...</td>\n",
       "    </tr>\n",
       "    <tr>\n",
       "      <th>2</th>\n",
       "      <td>\\n﻿माउ पार्टीसँग एकता एजेन्डामा मोहन वैद्य नेत...</td>\n",
       "      <td>Entertainment</td>\n",
       "      <td>माउ पार्टीसँग एकता एजेन्डामा मोहन वैद्य नेतृत्...</td>\n",
       "      <td>[-0.16163519, 0.0707252, 0.024961947, 0.004659...</td>\n",
       "    </tr>\n",
       "    <tr>\n",
       "      <th>3</th>\n",
       "      <td>\\n﻿भगवान गौतम बुद्धको जन्मस्थल लुम्बिनीमा चीनक...</td>\n",
       "      <td>Entertainment</td>\n",
       "      <td>भगवान गौतम बुद्धको जन्मस्थल लुम्बिनीमा चीनका व...</td>\n",
       "      <td>[0.7351121, 0.09960666, 0.34827855, 0.17212139...</td>\n",
       "    </tr>\n",
       "    <tr>\n",
       "      <th>4</th>\n",
       "      <td>\\n﻿मकवानपुर जिल्लालाई नेपालको ३० औं साक्षर जिल...</td>\n",
       "      <td>Entertainment</td>\n",
       "      <td>मकवानपुर जिल्लालाई नेपालको  औं साक्षर जिल्ला घ...</td>\n",
       "      <td>[0.08674331, -0.22013651, 0.025190195, 0.11819...</td>\n",
       "    </tr>\n",
       "    <tr>\n",
       "      <th>...</th>\n",
       "      <td>...</td>\n",
       "      <td>...</td>\n",
       "      <td>...</td>\n",
       "      <td>...</td>\n",
       "    </tr>\n",
       "    <tr>\n",
       "      <th>14351</th>\n",
       "      <td>\\n﻿\\n७ पुस, काठमाडौं । नेपालमा लोकपि्रय बनेको ...</td>\n",
       "      <td>Auto</td>\n",
       "      <td>पुस काठमाडौं  नेपालमा लोकपि्रय बनेको ‘टाटा सफ...</td>\n",
       "      <td>[-0.6924653, 0.46029034, -0.2538125, 0.8334381...</td>\n",
       "    </tr>\n",
       "    <tr>\n",
       "      <th>14352</th>\n",
       "      <td>\\n﻿\\n\\n१२ पुस, काठमाडाैं। वातावरण मैत्री सवारी...</td>\n",
       "      <td>Auto</td>\n",
       "      <td>पुस काठमाडाैं वातावरण मैत्री सवारी साधनको अधि...</td>\n",
       "      <td>[-0.70128024, 0.003827243, 0.52480596, -0.4330...</td>\n",
       "    </tr>\n",
       "    <tr>\n",
       "      <th>14353</th>\n",
       "      <td>\\n﻿\\n२७ मंसिर, काठमाडौं । टाटा मोटर्सले ट्याक्...</td>\n",
       "      <td>Auto</td>\n",
       "      <td>मंसिर काठमाडौं  टाटा मोटर्सले ट्याक्सीका लागि...</td>\n",
       "      <td>[-0.12963124, -0.15761732, 0.45340633, -0.1884...</td>\n",
       "    </tr>\n",
       "    <tr>\n",
       "      <th>14354</th>\n",
       "      <td>\\n﻿२ पुस, काठमाडौं । लामो समयदेखिको तराई आन्दो...</td>\n",
       "      <td>Auto</td>\n",
       "      <td>पुस काठमाडौं  लामो समयदेखिको तराई आन्दोलन र भ...</td>\n",
       "      <td>[0.06432456, 0.009475079, 0.2335211, -0.728735...</td>\n",
       "    </tr>\n",
       "    <tr>\n",
       "      <th>14355</th>\n",
       "      <td>\\n﻿\\n१४ मंसिर, काठमाडौं । सरकारले सोमबारदेखि ड...</td>\n",
       "      <td>Auto</td>\n",
       "      <td>मंसिर काठमाडौं  सरकारले सोमबारदेखि ड्राइभिङ ल...</td>\n",
       "      <td>[0.07529479, -0.47121534, 2.2936785, 0.0166609...</td>\n",
       "    </tr>\n",
       "  </tbody>\n",
       "</table>\n",
       "<p>27266 rows × 4 columns</p>\n",
       "</div>"
      ],
      "text/plain": [
       "                                                    news         labels  \\\n",
       "0      \\n﻿नायक श्रीकृष्ण श्रेष्ठकी श्रीमति अर्थात नाय...  Entertainment   \n",
       "1      \\n﻿फिल्मको पर्दामा हेरेर मन भर्नुपर्ने नायिकाह...  Entertainment   \n",
       "2      \\n﻿माउ पार्टीसँग एकता एजेन्डामा मोहन वैद्य नेत...  Entertainment   \n",
       "3      \\n﻿भगवान गौतम बुद्धको जन्मस्थल लुम्बिनीमा चीनक...  Entertainment   \n",
       "4      \\n﻿मकवानपुर जिल्लालाई नेपालको ३० औं साक्षर जिल...  Entertainment   \n",
       "...                                                  ...            ...   \n",
       "14351  \\n﻿\\n७ पुस, काठमाडौं । नेपालमा लोकपि्रय बनेको ...           Auto   \n",
       "14352  \\n﻿\\n\\n१२ पुस, काठमाडाैं। वातावरण मैत्री सवारी...           Auto   \n",
       "14353  \\n﻿\\n२७ मंसिर, काठमाडौं । टाटा मोटर्सले ट्याक्...           Auto   \n",
       "14354  \\n﻿२ पुस, काठमाडौं । लामो समयदेखिको तराई आन्दो...           Auto   \n",
       "14355  \\n﻿\\n१४ मंसिर, काठमाडौं । सरकारले सोमबारदेखि ड...           Auto   \n",
       "\n",
       "                                            cleaned_news  \\\n",
       "0      नायक श्रीकृष्ण श्रेष्ठकी श्रीमति अर्थात नायिका...   \n",
       "1      फिल्मको पर्दामा हेरेर मन भर्नुपर्ने नायिकाहरु ...   \n",
       "2      माउ पार्टीसँग एकता एजेन्डामा मोहन वैद्य नेतृत्...   \n",
       "3      भगवान गौतम बुद्धको जन्मस्थल लुम्बिनीमा चीनका व...   \n",
       "4      मकवानपुर जिल्लालाई नेपालको  औं साक्षर जिल्ला घ...   \n",
       "...                                                  ...   \n",
       "14351   पुस काठमाडौं  नेपालमा लोकपि्रय बनेको ‘टाटा सफ...   \n",
       "14352   पुस काठमाडाैं वातावरण मैत्री सवारी साधनको अधि...   \n",
       "14353   मंसिर काठमाडौं  टाटा मोटर्सले ट्याक्सीका लागि...   \n",
       "14354   पुस काठमाडौं  लामो समयदेखिको तराई आन्दोलन र भ...   \n",
       "14355   मंसिर काठमाडौं  सरकारले सोमबारदेखि ड्राइभिङ ल...   \n",
       "\n",
       "                                              embeddings  \n",
       "0      [-0.080443375, 0.2827489, 0.83980685, 0.197515...  \n",
       "1      [-0.860313, -0.71543497, 0.2471731, 0.50896996...  \n",
       "2      [-0.16163519, 0.0707252, 0.024961947, 0.004659...  \n",
       "3      [0.7351121, 0.09960666, 0.34827855, 0.17212139...  \n",
       "4      [0.08674331, -0.22013651, 0.025190195, 0.11819...  \n",
       "...                                                  ...  \n",
       "14351  [-0.6924653, 0.46029034, -0.2538125, 0.8334381...  \n",
       "14352  [-0.70128024, 0.003827243, 0.52480596, -0.4330...  \n",
       "14353  [-0.12963124, -0.15761732, 0.45340633, -0.1884...  \n",
       "14354  [0.06432456, 0.009475079, 0.2335211, -0.728735...  \n",
       "14355  [0.07529479, -0.47121534, 2.2936785, 0.0166609...  \n",
       "\n",
       "[27266 rows x 4 columns]"
      ]
     },
     "execution_count": 192,
     "metadata": {},
     "output_type": "execute_result"
    }
   ],
   "source": [
    "news_df"
   ]
  },
  {
   "cell_type": "code",
   "execution_count": 27,
   "id": "774544ac",
   "metadata": {},
   "outputs": [
    {
     "ename": "KeyError",
     "evalue": "'embeddings'",
     "output_type": "error",
     "traceback": [
      "\u001b[0;31m---------------------------------------------------------------------------\u001b[0m",
      "\u001b[0;31mKeyError\u001b[0m                                  Traceback (most recent call last)",
      "\u001b[0;32m~/anaconda3/envs/mix/lib/python3.7/site-packages/pandas/core/indexes/base.py\u001b[0m in \u001b[0;36mget_loc\u001b[0;34m(self, key, method, tolerance)\u001b[0m\n\u001b[1;32m   3360\u001b[0m             \u001b[0;32mtry\u001b[0m\u001b[0;34m:\u001b[0m\u001b[0;34m\u001b[0m\u001b[0;34m\u001b[0m\u001b[0m\n\u001b[0;32m-> 3361\u001b[0;31m                 \u001b[0;32mreturn\u001b[0m \u001b[0mself\u001b[0m\u001b[0;34m.\u001b[0m\u001b[0m_engine\u001b[0m\u001b[0;34m.\u001b[0m\u001b[0mget_loc\u001b[0m\u001b[0;34m(\u001b[0m\u001b[0mcasted_key\u001b[0m\u001b[0;34m)\u001b[0m\u001b[0;34m\u001b[0m\u001b[0;34m\u001b[0m\u001b[0m\n\u001b[0m\u001b[1;32m   3362\u001b[0m             \u001b[0;32mexcept\u001b[0m \u001b[0mKeyError\u001b[0m \u001b[0;32mas\u001b[0m \u001b[0merr\u001b[0m\u001b[0;34m:\u001b[0m\u001b[0;34m\u001b[0m\u001b[0;34m\u001b[0m\u001b[0m\n",
      "\u001b[0;32m~/anaconda3/envs/mix/lib/python3.7/site-packages/pandas/_libs/index.pyx\u001b[0m in \u001b[0;36mpandas._libs.index.IndexEngine.get_loc\u001b[0;34m()\u001b[0m\n",
      "\u001b[0;32m~/anaconda3/envs/mix/lib/python3.7/site-packages/pandas/_libs/index.pyx\u001b[0m in \u001b[0;36mpandas._libs.index.IndexEngine.get_loc\u001b[0;34m()\u001b[0m\n",
      "\u001b[0;32mpandas/_libs/hashtable_class_helper.pxi\u001b[0m in \u001b[0;36mpandas._libs.hashtable.PyObjectHashTable.get_item\u001b[0;34m()\u001b[0m\n",
      "\u001b[0;32mpandas/_libs/hashtable_class_helper.pxi\u001b[0m in \u001b[0;36mpandas._libs.hashtable.PyObjectHashTable.get_item\u001b[0;34m()\u001b[0m\n",
      "\u001b[0;31mKeyError\u001b[0m: 'embeddings'",
      "\nThe above exception was the direct cause of the following exception:\n",
      "\u001b[0;31mKeyError\u001b[0m                                  Traceback (most recent call last)",
      "\u001b[0;32m/tmp/ipykernel_16413/1557930418.py\u001b[0m in \u001b[0;36m<module>\u001b[0;34m\u001b[0m\n\u001b[0;32m----> 1\u001b[0;31m \u001b[0mX\u001b[0m\u001b[0;34m,\u001b[0m\u001b[0my\u001b[0m \u001b[0;34m=\u001b[0m \u001b[0mnews_df\u001b[0m\u001b[0;34m[\u001b[0m\u001b[0;34m'embeddings'\u001b[0m\u001b[0;34m]\u001b[0m\u001b[0;34m,\u001b[0m \u001b[0mnews_df\u001b[0m\u001b[0;34m[\u001b[0m\u001b[0;34m'labels'\u001b[0m\u001b[0;34m]\u001b[0m\u001b[0;34m\u001b[0m\u001b[0;34m\u001b[0m\u001b[0m\n\u001b[0m",
      "\u001b[0;32m~/anaconda3/envs/mix/lib/python3.7/site-packages/pandas/core/frame.py\u001b[0m in \u001b[0;36m__getitem__\u001b[0;34m(self, key)\u001b[0m\n\u001b[1;32m   3456\u001b[0m             \u001b[0;32mif\u001b[0m \u001b[0mself\u001b[0m\u001b[0;34m.\u001b[0m\u001b[0mcolumns\u001b[0m\u001b[0;34m.\u001b[0m\u001b[0mnlevels\u001b[0m \u001b[0;34m>\u001b[0m \u001b[0;36m1\u001b[0m\u001b[0;34m:\u001b[0m\u001b[0;34m\u001b[0m\u001b[0;34m\u001b[0m\u001b[0m\n\u001b[1;32m   3457\u001b[0m                 \u001b[0;32mreturn\u001b[0m \u001b[0mself\u001b[0m\u001b[0;34m.\u001b[0m\u001b[0m_getitem_multilevel\u001b[0m\u001b[0;34m(\u001b[0m\u001b[0mkey\u001b[0m\u001b[0;34m)\u001b[0m\u001b[0;34m\u001b[0m\u001b[0;34m\u001b[0m\u001b[0m\n\u001b[0;32m-> 3458\u001b[0;31m             \u001b[0mindexer\u001b[0m \u001b[0;34m=\u001b[0m \u001b[0mself\u001b[0m\u001b[0;34m.\u001b[0m\u001b[0mcolumns\u001b[0m\u001b[0;34m.\u001b[0m\u001b[0mget_loc\u001b[0m\u001b[0;34m(\u001b[0m\u001b[0mkey\u001b[0m\u001b[0;34m)\u001b[0m\u001b[0;34m\u001b[0m\u001b[0;34m\u001b[0m\u001b[0m\n\u001b[0m\u001b[1;32m   3459\u001b[0m             \u001b[0;32mif\u001b[0m \u001b[0mis_integer\u001b[0m\u001b[0;34m(\u001b[0m\u001b[0mindexer\u001b[0m\u001b[0;34m)\u001b[0m\u001b[0;34m:\u001b[0m\u001b[0;34m\u001b[0m\u001b[0;34m\u001b[0m\u001b[0m\n\u001b[1;32m   3460\u001b[0m                 \u001b[0mindexer\u001b[0m \u001b[0;34m=\u001b[0m \u001b[0;34m[\u001b[0m\u001b[0mindexer\u001b[0m\u001b[0;34m]\u001b[0m\u001b[0;34m\u001b[0m\u001b[0;34m\u001b[0m\u001b[0m\n",
      "\u001b[0;32m~/anaconda3/envs/mix/lib/python3.7/site-packages/pandas/core/indexes/base.py\u001b[0m in \u001b[0;36mget_loc\u001b[0;34m(self, key, method, tolerance)\u001b[0m\n\u001b[1;32m   3361\u001b[0m                 \u001b[0;32mreturn\u001b[0m \u001b[0mself\u001b[0m\u001b[0;34m.\u001b[0m\u001b[0m_engine\u001b[0m\u001b[0;34m.\u001b[0m\u001b[0mget_loc\u001b[0m\u001b[0;34m(\u001b[0m\u001b[0mcasted_key\u001b[0m\u001b[0;34m)\u001b[0m\u001b[0;34m\u001b[0m\u001b[0;34m\u001b[0m\u001b[0m\n\u001b[1;32m   3362\u001b[0m             \u001b[0;32mexcept\u001b[0m \u001b[0mKeyError\u001b[0m \u001b[0;32mas\u001b[0m \u001b[0merr\u001b[0m\u001b[0;34m:\u001b[0m\u001b[0;34m\u001b[0m\u001b[0;34m\u001b[0m\u001b[0m\n\u001b[0;32m-> 3363\u001b[0;31m                 \u001b[0;32mraise\u001b[0m \u001b[0mKeyError\u001b[0m\u001b[0;34m(\u001b[0m\u001b[0mkey\u001b[0m\u001b[0;34m)\u001b[0m \u001b[0;32mfrom\u001b[0m \u001b[0merr\u001b[0m\u001b[0;34m\u001b[0m\u001b[0;34m\u001b[0m\u001b[0m\n\u001b[0m\u001b[1;32m   3364\u001b[0m \u001b[0;34m\u001b[0m\u001b[0m\n\u001b[1;32m   3365\u001b[0m         \u001b[0;32mif\u001b[0m \u001b[0mis_scalar\u001b[0m\u001b[0;34m(\u001b[0m\u001b[0mkey\u001b[0m\u001b[0;34m)\u001b[0m \u001b[0;32mand\u001b[0m \u001b[0misna\u001b[0m\u001b[0;34m(\u001b[0m\u001b[0mkey\u001b[0m\u001b[0;34m)\u001b[0m \u001b[0;32mand\u001b[0m \u001b[0;32mnot\u001b[0m \u001b[0mself\u001b[0m\u001b[0;34m.\u001b[0m\u001b[0mhasnans\u001b[0m\u001b[0;34m:\u001b[0m\u001b[0;34m\u001b[0m\u001b[0;34m\u001b[0m\u001b[0m\n",
      "\u001b[0;31mKeyError\u001b[0m: 'embeddings'"
     ]
    }
   ],
   "source": [
    "X,y = news_df['embeddings'], news_df['labels']"
   ]
  },
  {
   "cell_type": "code",
   "execution_count": 194,
   "id": "fae2846f",
   "metadata": {},
   "outputs": [],
   "source": [
    "X = [numpy.array(i) for i in X]"
   ]
  },
  {
   "cell_type": "code",
   "execution_count": 25,
   "id": "66cdf0a6",
   "metadata": {},
   "outputs": [],
   "source": [
    "svc = SVC()"
   ]
  },
  {
   "cell_type": "code",
   "execution_count": 26,
   "id": "d3d8ce3c",
   "metadata": {},
   "outputs": [
    {
     "ename": "NameError",
     "evalue": "name 'y' is not defined",
     "output_type": "error",
     "traceback": [
      "\u001b[0;31m---------------------------------------------------------------------------\u001b[0m",
      "\u001b[0;31mNameError\u001b[0m                                 Traceback (most recent call last)",
      "\u001b[0;32m/tmp/ipykernel_16413/166584336.py\u001b[0m in \u001b[0;36m<module>\u001b[0;34m\u001b[0m\n\u001b[0;32m----> 1\u001b[0;31m \u001b[0mtrain_X\u001b[0m\u001b[0;34m,\u001b[0m  \u001b[0mtest_X\u001b[0m\u001b[0;34m,\u001b[0m \u001b[0mtrain_y\u001b[0m\u001b[0;34m,\u001b[0m \u001b[0mtest_y\u001b[0m \u001b[0;34m=\u001b[0m \u001b[0mtrain_test_split\u001b[0m\u001b[0;34m(\u001b[0m\u001b[0mX\u001b[0m\u001b[0;34m,\u001b[0m\u001b[0my\u001b[0m\u001b[0;34m,\u001b[0m \u001b[0mtest_size\u001b[0m \u001b[0;34m=\u001b[0m \u001b[0;36m0.25\u001b[0m\u001b[0;34m,\u001b[0m \u001b[0mrandom_state\u001b[0m \u001b[0;34m=\u001b[0m \u001b[0;36m520\u001b[0m\u001b[0;34m)\u001b[0m\u001b[0;34m\u001b[0m\u001b[0;34m\u001b[0m\u001b[0m\n\u001b[0m",
      "\u001b[0;31mNameError\u001b[0m: name 'y' is not defined"
     ]
    }
   ],
   "source": [
    "train_X,  test_X, train_y, test_y = train_test_split(X,y, test_size = 0.25, random_state = 520)"
   ]
  },
  {
   "cell_type": "code",
   "execution_count": 197,
   "id": "a447e3d3",
   "metadata": {
    "scrolled": true
   },
   "outputs": [
    {
     "data": {
      "text/plain": [
       "SVC()"
      ]
     },
     "execution_count": 197,
     "metadata": {},
     "output_type": "execute_result"
    }
   ],
   "source": [
    "svc.fit(train_X, train_y)"
   ]
  },
  {
   "cell_type": "code",
   "execution_count": 198,
   "id": "b64fa39e",
   "metadata": {},
   "outputs": [],
   "source": [
    "svc_predict = svc.predict(test_X)"
   ]
  },
  {
   "cell_type": "code",
   "execution_count": 200,
   "id": "e7572c8c",
   "metadata": {},
   "outputs": [
    {
     "data": {
      "text/plain": [
       "array(['National News', 'National News', 'National News', ...,\n",
       "       'National News', 'National News', 'Opinion'], dtype=object)"
      ]
     },
     "execution_count": 200,
     "metadata": {},
     "output_type": "execute_result"
    }
   ],
   "source": [
    "svc_predict"
   ]
  },
  {
   "cell_type": "code",
   "execution_count": 201,
   "id": "60d5f931",
   "metadata": {},
   "outputs": [
    {
     "data": {
      "text/plain": [
       "array([[  38,    0,    0,    0,    1,    0,    0,    1,    0,    0,    8,\n",
       "           0,    0,    0,    0,    0],\n",
       "       [   0,  111,    0,    0,   18,    0,    0,    0,    0,    0,   37,\n",
       "           0,    7,    0,    0,    0],\n",
       "       [   0,    0,   45,    0,    0,    1,    0,   19,    0,    0,   22,\n",
       "           3,   23,    0,    0,    0],\n",
       "       [   0,    0,    0,   49,    1,    0,    0,    0,    0,    0,   13,\n",
       "           2,    0,    0,    0,    0],\n",
       "       [   4,   12,    0,    0,  372,    0,    3,    1,    0,    0,  159,\n",
       "           0,    2,    1,    2,    0],\n",
       "       [   0,    0,    0,    0,    0,    1,    0,    1,    0,    0,   43,\n",
       "           1,    6,    0,    0,    0],\n",
       "       [   0,    2,    0,    0,    3,    0,   23,    0,    0,    0,   41,\n",
       "           0,    3,    0,    0,    0],\n",
       "       [   0,    1,   12,    0,    3,    1,    0,  439,    0,    0,   65,\n",
       "           0,   66,    0,    0,    0],\n",
       "       [   0,    0,    1,    0,    0,    0,    0,    3,   22,    0,    2,\n",
       "           7,    0,    0,    0,    0],\n",
       "       [   0,    0,    0,    0,    0,    0,    0,    1,    0,    4,    3,\n",
       "           0,    0,    0,    0,    0],\n",
       "       [   1,    9,    3,    0,   52,    0,    0,   34,    0,    0, 3311,\n",
       "           8,   84,    2,    2,    3],\n",
       "       [   0,    0,    1,    0,    1,    0,    0,    0,    1,    0,   44,\n",
       "         238,    0,    0,    0,    0],\n",
       "       [   2,    2,    4,    0,    2,    0,    0,   11,    0,    0,  113,\n",
       "           0,  920,    0,    0,    0],\n",
       "       [   0,    1,    0,    0,    7,    0,    0,    3,    0,    0,   21,\n",
       "           0,    2,   26,    0,    0],\n",
       "       [   0,    1,    0,    0,    9,    0,    0,    3,    0,    0,   36,\n",
       "           0,   17,    0,   40,    0],\n",
       "       [   0,    0,    0,    0,    3,    0,    0,    4,    0,    0,   51,\n",
       "           0,    3,    2,    0,   31]])"
      ]
     },
     "execution_count": 201,
     "metadata": {},
     "output_type": "execute_result"
    }
   ],
   "source": [
    "from sklearn.metrics import confusion_matrix\n",
    "confusion_matrix(test_y, svc_predict)"
   ]
  },
  {
   "cell_type": "code",
   "execution_count": 206,
   "id": "5bb5a9c0",
   "metadata": {},
   "outputs": [
    {
     "name": "stdout",
     "output_type": "stream",
     "text": [
      "                    precision    recall  f1-score   support\n",
      "\n",
      "              Auto       0.84      0.79      0.82        48\n",
      "              Bank       0.80      0.64      0.71       173\n",
      "              Blog       0.68      0.40      0.50       113\n",
      "Business Interview       1.00      0.75      0.86        65\n",
      "           Economy       0.79      0.67      0.72       556\n",
      "         Education       0.33      0.02      0.04        52\n",
      "        Employment       0.88      0.32      0.47        72\n",
      "     Entertainment       0.84      0.75      0.79       587\n",
      "         Interview       0.96      0.63      0.76        35\n",
      "        Literature       1.00      0.50      0.67         8\n",
      "     National News       0.83      0.94      0.89      3509\n",
      "           Opinion       0.92      0.84      0.88       285\n",
      "            Sports       0.81      0.87      0.84      1054\n",
      "        Technology       0.84      0.43      0.57        60\n",
      "           Tourism       0.91      0.38      0.53       106\n",
      "             World       0.91      0.33      0.48        94\n",
      "\n",
      "          accuracy                           0.83      6817\n",
      "         macro avg       0.83      0.58      0.66      6817\n",
      "      weighted avg       0.83      0.83      0.82      6817\n",
      "\n"
     ]
    }
   ],
   "source": [
    "from sklearn.metrics import classification_report\n",
    "print(classification_report(test_y, svc_predict))"
   ]
  },
  {
   "cell_type": "code",
   "execution_count": null,
   "id": "f1642c05",
   "metadata": {},
   "outputs": [],
   "source": []
  }
 ],
 "metadata": {
  "interpreter": {
   "hash": "9d8f7f9ab59fa43cc49ef31a247113f5358082eb03e7f87112a68b65e7bb8acc"
  },
  "kernelspec": {
   "display_name": "Python 3 (ipykernel)",
   "language": "python",
   "name": "python3"
  },
  "language_info": {
   "codemirror_mode": {
    "name": "ipython",
    "version": 3
   },
   "file_extension": ".py",
   "mimetype": "text/x-python",
   "name": "python",
   "nbconvert_exporter": "python",
   "pygments_lexer": "ipython3",
   "version": "3.7.11"
  }
 },
 "nbformat": 4,
 "nbformat_minor": 5
}
