{
 "cells": [
  {
   "cell_type": "code",
   "execution_count": 1,
   "id": "88f50b30",
   "metadata": {},
   "outputs": [],
   "source": [
    "import os\n",
    "from gensim.models.doc2vec import Doc2Vec\n",
    "# from nepali_data_preprocesser import Preprocessor\n",
    "import string\n",
    "import sys\n",
    "import re\n",
    "import pandas as pd \n",
    "import numpy\n",
    "from sklearn.svm import SVC\n",
    "from sklearn.ensemble import GradientBoostingClassifier, RandomForestClassifier\n",
    "from sklearn.model_selection import train_test_split\n",
    "from sklearn.metrics import f1_score, classification_report, confusion_matrix\n",
    "from nltk.corpus import stopwords"
   ]
  },
  {
   "cell_type": "code",
   "execution_count": null,
   "id": "7c3d7e2a",
   "metadata": {},
   "outputs": [],
   "source": [
    "model = Doc2Vec.load(\"/home/shushant/Desktop/nlp_projects/NepaliNewsCategoryClassification/model/bakya2vec_model/bakya2vec_lg.model\")"
   ]
  },
  {
   "cell_type": "code",
   "execution_count": null,
   "id": "9db4e607",
   "metadata": {},
   "outputs": [],
   "source": [
    "def find_embedding(text):\n",
    "    text = re.sub(r\"[|a-zA-z.'#0-9@,:?'\\u200b\\u200c\\u200d!/&~-]\",'',text)\n",
    "    tokenized_text = nep_preprocessor.word_tokenize(text)\n",
    "    text_embedding = model.infer_vector(tokenized_text)\n",
    "    return text_embedding\n",
    "\n",
    "news_df['embeddings'] = news_df['cleaned_news'].apply(find_embedding)\n",
    "\n",
    "news_df"
   ]
  }
 ],
 "metadata": {
  "kernelspec": {
   "display_name": "Python 3 (ipykernel)",
   "language": "python",
   "name": "python3"
  },
  "language_info": {
   "codemirror_mode": {
    "name": "ipython",
    "version": 3
   },
   "file_extension": ".py",
   "mimetype": "text/x-python",
   "name": "python",
   "nbconvert_exporter": "python",
   "pygments_lexer": "ipython3",
   "version": "3.7.11"
  }
 },
 "nbformat": 4,
 "nbformat_minor": 5
}
