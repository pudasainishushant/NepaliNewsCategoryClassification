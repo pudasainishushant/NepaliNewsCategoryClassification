{
 "cells": [
  {
   "cell_type": "code",
   "execution_count": 12,
   "id": "2bebd685",
   "metadata": {},
   "outputs": [],
   "source": [
    "import os\n",
    "import string\n",
    "import sys\n",
    "import re\n",
    "import pandas as pd \n",
    "import numpy\n",
    "from sklearn.svm import SVC\n",
    "from sklearn.feature_extraction.text import TfidfVectorizer\n",
    "from sklearn.ensemble import GradientBoostingClassifier, RandomForestClassifier\n",
    "from sklearn.model_selection import train_test_split\n",
    "from sklearn import model_selection, naive_bayes, svm\n",
    "from sklearn.metrics import f1_score, classification_report, confusion_matrix\n",
    "from nltk.corpus import stopwords"
   ]
  },
  {
   "cell_type": "code",
   "execution_count": 7,
   "id": "ec7832f7",
   "metadata": {},
   "outputs": [],
   "source": [
    "data = pd.read_csv(\"data.csv\")"
   ]
  },
  {
   "cell_type": "code",
   "execution_count": 8,
   "id": "39dae91a",
   "metadata": {},
   "outputs": [],
   "source": [
    "corpus = data['cleaned_news'].tolist()\n",
    "vectorizer = TfidfVectorizer()\n",
    "Tfidf_vect = vectorizer.fit_transform(corpus)"
   ]
  },
  {
   "cell_type": "code",
   "execution_count": 10,
   "id": "b0956826",
   "metadata": {},
   "outputs": [],
   "source": [
    "X,y = data['cleaned_news'], data['labels']\n",
    "train_X,  test_X, train_y, test_y = train_test_split(X,y, test_size = 0.25, random_state = 520)"
   ]
  },
  {
   "cell_type": "code",
   "execution_count": 11,
   "id": "6f456361",
   "metadata": {},
   "outputs": [],
   "source": [
    "Train_X_Tfidf = vectorizer.fit_transform(train_X)\n",
    "Test_X_Tfidf = vectorizer.transform(test_X)"
   ]
  },
  {
   "cell_type": "code",
   "execution_count": 17,
   "id": "5a7463b2",
   "metadata": {},
   "outputs": [
    {
     "data": {
      "text/plain": [
       "(6817,)"
      ]
     },
     "execution_count": 17,
     "metadata": {},
     "output_type": "execute_result"
    }
   ],
   "source": [
    "test_X.shape"
   ]
  },
  {
   "cell_type": "code",
   "execution_count": 18,
   "id": "8f23dff4",
   "metadata": {},
   "outputs": [
    {
     "data": {
      "text/plain": [
       "(27266, 3)"
      ]
     },
     "execution_count": 18,
     "metadata": {},
     "output_type": "execute_result"
    }
   ],
   "source": [
    "data.shape"
   ]
  },
  {
   "cell_type": "markdown",
   "id": "4077938a",
   "metadata": {},
   "source": [
    "# Naive Bayes\n"
   ]
  },
  {
   "cell_type": "code",
   "execution_count": 13,
   "id": "1ea7028f",
   "metadata": {},
   "outputs": [],
   "source": [
    "\n",
    "# fit the training dataset on the NB classifier\n",
    "Naive = naive_bayes.MultinomialNB()\n",
    "Naive.fit(Train_X_Tfidf,train_y)\n",
    "# predict the labels on validation dataset\n",
    "predictions_NB = Naive.predict(Test_X_Tfidf)\n"
   ]
  },
  {
   "cell_type": "code",
   "execution_count": 14,
   "id": "e432a2b8",
   "metadata": {},
   "outputs": [
    {
     "name": "stdout",
     "output_type": "stream",
     "text": [
      "[[   0    0    0    0    0    0    0    0    0    0   50    0    0    0\n",
      "     0    0]\n",
      " [   0    2    0    0    0    0    0    0    0    0  164    0    0    0\n",
      "     0    0]\n",
      " [   0    0    0    0    0    0    0    0    0    0  102    0    0    0\n",
      "     0    0]\n",
      " [   0    0    0    0    0    0    0    0    0    0   55    0    0    0\n",
      "     0    0]\n",
      " [   0    0    0    0    0    0    0    0    0    0  544    0    3    0\n",
      "     0    0]\n",
      " [   0    0    0    0    0    0    0    0    0    0   49    0    0    0\n",
      "     0    0]\n",
      " [   0    0    0    0    0    0    0    0    0    0   74    0    0    0\n",
      "     0    0]\n",
      " [   0    2    0    0    0    0    0   51    0    0  542    0    3    0\n",
      "     0    0]\n",
      " [   0    0    0    0    0    0    0    0    0    0   36    0    1    0\n",
      "     0    0]\n",
      " [   0    0    0    0    0    0    0    1    0    0    6    0    0    0\n",
      "     0    0]\n",
      " [   0    0    0    0    0    0    0    0    0    0 3455    0   45    0\n",
      "     0    0]\n",
      " [   0    0    0    0    0    0    0    0    0    0  272    0    0    0\n",
      "     0    0]\n",
      " [   0    0    0    0    0    0    0    0    0    0  576    0  514    0\n",
      "     0    0]\n",
      " [   0    0    0    0    0    0    0    0    0    0   53    0    0    0\n",
      "     0    0]\n",
      " [   0    0    0    0    0    0    0    0    0    0  110    0    1    0\n",
      "     0    0]\n",
      " [   0    0    0    0    0    0    0    0    0    0  106    0    0    0\n",
      "     0    0]]\n",
      "                    precision    recall  f1-score   support\n",
      "\n",
      "              Auto       0.00      0.00      0.00        50\n",
      "              Bank       0.50      0.01      0.02       166\n",
      "              Blog       0.00      0.00      0.00       102\n",
      "Business Interview       0.00      0.00      0.00        55\n",
      "           Economy       0.00      0.00      0.00       547\n",
      "         Education       0.00      0.00      0.00        49\n",
      "        Employment       0.00      0.00      0.00        74\n",
      "     Entertainment       0.98      0.09      0.16       598\n",
      "         Interview       0.00      0.00      0.00        37\n",
      "        Literature       0.00      0.00      0.00         7\n",
      "     National News       0.56      0.99      0.71      3500\n",
      "           Opinion       0.00      0.00      0.00       272\n",
      "            Sports       0.91      0.47      0.62      1090\n",
      "        Technology       0.00      0.00      0.00        53\n",
      "           Tourism       0.00      0.00      0.00       111\n",
      "             World       0.00      0.00      0.00       106\n",
      "\n",
      "          accuracy                           0.59      6817\n",
      "         macro avg       0.18      0.10      0.09      6817\n",
      "      weighted avg       0.53      0.59      0.48      6817\n",
      "\n"
     ]
    },
    {
     "name": "stderr",
     "output_type": "stream",
     "text": [
      "/home/shushant/anaconda3/envs/mix/lib/python3.7/site-packages/sklearn/metrics/_classification.py:1318: UndefinedMetricWarning: Precision and F-score are ill-defined and being set to 0.0 in labels with no predicted samples. Use `zero_division` parameter to control this behavior.\n",
      "  _warn_prf(average, modifier, msg_start, len(result))\n",
      "/home/shushant/anaconda3/envs/mix/lib/python3.7/site-packages/sklearn/metrics/_classification.py:1318: UndefinedMetricWarning: Precision and F-score are ill-defined and being set to 0.0 in labels with no predicted samples. Use `zero_division` parameter to control this behavior.\n",
      "  _warn_prf(average, modifier, msg_start, len(result))\n",
      "/home/shushant/anaconda3/envs/mix/lib/python3.7/site-packages/sklearn/metrics/_classification.py:1318: UndefinedMetricWarning: Precision and F-score are ill-defined and being set to 0.0 in labels with no predicted samples. Use `zero_division` parameter to control this behavior.\n",
      "  _warn_prf(average, modifier, msg_start, len(result))\n"
     ]
    }
   ],
   "source": [
    "\n",
    "print(confusion_matrix(test_y, predictions_NB))\n",
    "print(classification_report(test_y, predictions_NB))"
   ]
  },
  {
   "cell_type": "markdown",
   "id": "a03f301a",
   "metadata": {},
   "source": [
    "# SVM"
   ]
  },
  {
   "cell_type": "code",
   "execution_count": 15,
   "id": "80309d91",
   "metadata": {},
   "outputs": [],
   "source": [
    "svc = SVC()\n",
    "svc.fit(Train_X_Tfidf,train_y)\n",
    "svc_predict = svc.predict(Test_X_Tfidf)"
   ]
  },
  {
   "cell_type": "code",
   "execution_count": 16,
   "id": "19e29721",
   "metadata": {},
   "outputs": [
    {
     "name": "stdout",
     "output_type": "stream",
     "text": [
      "[[  31    0    0    0    5    0    0    0    0    0   12    0    2    0\n",
      "     0    0]\n",
      " [   0  133    0    0   20    0    0    0    0    0   10    0    3    0\n",
      "     0    0]\n",
      " [   0    0   60    0    1    0    0    5    0    0   23    3   10    0\n",
      "     0    0]\n",
      " [   1    1    0   46    0    0    2    0    0    0    1    2    0    2\n",
      "     0    0]\n",
      " [   1    9    0    2  436    0    4    0    0    0   81    0    8    0\n",
      "     6    0]\n",
      " [   0    0    0    0    1   12    0    0    0    0   35    0    1    0\n",
      "     0    0]\n",
      " [   0    1    0    2    7    0   41    0    0    0   23    0    0    0\n",
      "     0    0]\n",
      " [   0    2    0    0    5    0    0  503    0    0   73    0   15    0\n",
      "     0    0]\n",
      " [   0    0    0    1    0    0    0    2    9    0    8   16    1    0\n",
      "     0    0]\n",
      " [   0    0    0    0    0    0    0    0    0    3    3    0    1    0\n",
      "     0    0]\n",
      " [   0    8    0    4   63    0    3   10    0    0 3313   27   61    2\n",
      "     7    2]\n",
      " [   0    0    0    0    1    0    0    1    0    0   42  227    0    0\n",
      "     1    0]\n",
      " [   0    0    0    0    2    0    0    4    1    0   77    0 1004    0\n",
      "     2    0]\n",
      " [   0    0    0    0    9    0    0    0    0    0   12    0    0   32\n",
      "     0    0]\n",
      " [   0    2    0    0    4    0    0    1    0    0   25    1    6    0\n",
      "    72    0]\n",
      " [   0    0    0    0    0    0    0    4    0    0   51    0    2    0\n",
      "     2   47]]\n",
      "                    precision    recall  f1-score   support\n",
      "\n",
      "              Auto       0.94      0.62      0.75        50\n",
      "              Bank       0.85      0.80      0.83       166\n",
      "              Blog       1.00      0.59      0.74       102\n",
      "Business Interview       0.84      0.84      0.84        55\n",
      "           Economy       0.79      0.80      0.79       547\n",
      "         Education       1.00      0.24      0.39        49\n",
      "        Employment       0.82      0.55      0.66        74\n",
      "     Entertainment       0.95      0.84      0.89       598\n",
      "         Interview       0.90      0.24      0.38        37\n",
      "        Literature       1.00      0.43      0.60         7\n",
      "     National News       0.87      0.95      0.91      3500\n",
      "           Opinion       0.82      0.83      0.83       272\n",
      "            Sports       0.90      0.92      0.91      1090\n",
      "        Technology       0.89      0.60      0.72        53\n",
      "           Tourism       0.80      0.65      0.72       111\n",
      "             World       0.96      0.44      0.61       106\n",
      "\n",
      "          accuracy                           0.88      6817\n",
      "         macro avg       0.90      0.65      0.72      6817\n",
      "      weighted avg       0.88      0.88      0.87      6817\n",
      "\n"
     ]
    }
   ],
   "source": [
    "print(confusion_matrix(test_y, svc_predict))\n",
    "print(classification_report(test_y, svc_predict))"
   ]
  },
  {
   "cell_type": "markdown",
   "id": "bfbc1a5f",
   "metadata": {},
   "source": [
    "# XGBoost"
   ]
  },
  {
   "cell_type": "code",
   "execution_count": 21,
   "id": "4963bf71",
   "metadata": {},
   "outputs": [],
   "source": [
    "from xgboost import XGBClassifier\n"
   ]
  },
  {
   "cell_type": "code",
   "execution_count": 22,
   "id": "f73c882d",
   "metadata": {},
   "outputs": [
    {
     "name": "stderr",
     "output_type": "stream",
     "text": [
      "/home/shushant/anaconda3/envs/mix/lib/python3.7/site-packages/xgboost/sklearn.py:1224: UserWarning: The use of label encoder in XGBClassifier is deprecated and will be removed in a future release. To remove this warning, do the following: 1) Pass option use_label_encoder=False when constructing XGBClassifier object; and 2) Encode your labels (y) as integers starting with 0, i.e. 0, 1, 2, ..., [num_class - 1].\n",
      "  warnings.warn(label_encoder_deprecation_msg, UserWarning)\n"
     ]
    },
    {
     "name": "stdout",
     "output_type": "stream",
     "text": [
      "[00:19:26] WARNING: ../src/learner.cc:1115: Starting in XGBoost 1.3.0, the default evaluation metric used with the objective 'multi:softprob' was changed from 'merror' to 'mlogloss'. Explicitly set eval_metric if you'd like to restore the old behavior.\n"
     ]
    },
    {
     "data": {
      "text/plain": [
       "XGBClassifier(base_score=0.5, booster='gbtree', colsample_bylevel=1,\n",
       "              colsample_bynode=1, colsample_bytree=1, enable_categorical=False,\n",
       "              gamma=0, gpu_id=-1, importance_type=None,\n",
       "              interaction_constraints='', learning_rate=0.300000012,\n",
       "              max_delta_step=0, max_depth=6, min_child_weight=1, missing=nan,\n",
       "              monotone_constraints='()', n_estimators=100, n_jobs=8,\n",
       "              num_parallel_tree=1, objective='multi:softprob', predictor='auto',\n",
       "              random_state=0, reg_alpha=0, reg_lambda=1, scale_pos_weight=None,\n",
       "              subsample=1, tree_method='exact', validate_parameters=1,\n",
       "              verbosity=None)"
      ]
     },
     "execution_count": 22,
     "metadata": {},
     "output_type": "execute_result"
    }
   ],
   "source": [
    "model = XGBClassifier() \n",
    "\n",
    "model.fit(Train_X_Tfidf,train_y)"
   ]
  },
  {
   "cell_type": "code",
   "execution_count": 23,
   "id": "4b4ad5ed",
   "metadata": {},
   "outputs": [],
   "source": [
    "xgb_boost_predict = model.predict(Test_X_Tfidf)"
   ]
  },
  {
   "cell_type": "code",
   "execution_count": 24,
   "id": "4b5e4acf",
   "metadata": {},
   "outputs": [
    {
     "name": "stdout",
     "output_type": "stream",
     "text": [
      "[[  36    0    0    0    6    0    0    0    0    0    8    0    0    0\n",
      "     0    0]\n",
      " [   0  146    0    0    8    0    0    0    0    0    8    0    4    0\n",
      "     0    0]\n",
      " [   0    0   74    0    0    0    0    6    0    0    5    4   13    0\n",
      "     0    0]\n",
      " [   0    0    0   52    0    0    0    0    0    0    1    0    0    2\n",
      "     0    0]\n",
      " [   3    4    0    2  453    0    3    2    0    0   76    1    0    0\n",
      "     3    0]\n",
      " [   0    0    2    0    2   32    0    0    0    0   10    0    3    0\n",
      "     0    0]\n",
      " [   0    0    0    0    1    0   67    0    0    0    6    0    0    0\n",
      "     0    0]\n",
      " [   0    2    2    0    0    0    0  516    0    0   47    2   29    0\n",
      "     0    0]\n",
      " [   0    0    0    0    0    0    0    0   34    0    2    1    0    0\n",
      "     0    0]\n",
      " [   0    0    0    0    0    0    0    0    0    5    2    0    0    0\n",
      "     0    0]\n",
      " [   0    2    0    0   40    0    1    6    0    0 3393   22   34    0\n",
      "     2    0]\n",
      " [   0    0    0    0    0    0    0    0    0    0   38  234    0    0\n",
      "     0    0]\n",
      " [   0    0    0    0    0    0    0    6    0    0   45    0 1039    0\n",
      "     0    0]\n",
      " [   0    0    0    0    2    0    0    2    0    0   10    2    2   35\n",
      "     0    0]\n",
      " [   0    0    0    0    0    0    0    2    0    0   15    0    2    0\n",
      "    92    0]\n",
      " [   0    0    0    0    0    0    0    4    0    0   23    0    1    0\n",
      "     2   76]]\n",
      "                    precision    recall  f1-score   support\n",
      "\n",
      "              Auto       0.92      0.72      0.81        50\n",
      "              Bank       0.95      0.88      0.91       166\n",
      "              Blog       0.95      0.73      0.82       102\n",
      "Business Interview       0.96      0.95      0.95        55\n",
      "           Economy       0.88      0.83      0.86       547\n",
      "         Education       1.00      0.65      0.79        49\n",
      "        Employment       0.94      0.91      0.92        74\n",
      "     Entertainment       0.95      0.86      0.90       598\n",
      "         Interview       1.00      0.92      0.96        37\n",
      "        Literature       1.00      0.71      0.83         7\n",
      "     National News       0.92      0.97      0.94      3500\n",
      "           Opinion       0.88      0.86      0.87       272\n",
      "            Sports       0.92      0.95      0.94      1090\n",
      "        Technology       0.95      0.66      0.78        53\n",
      "           Tourism       0.93      0.83      0.88       111\n",
      "             World       1.00      0.72      0.84       106\n",
      "\n",
      "          accuracy                           0.92      6817\n",
      "         macro avg       0.95      0.82      0.88      6817\n",
      "      weighted avg       0.92      0.92      0.92      6817\n",
      "\n"
     ]
    }
   ],
   "source": [
    "print(confusion_matrix(test_y, xgb_boost_predict))\n",
    "print(classification_report(test_y, xgb_boost_predict))"
   ]
  },
  {
   "cell_type": "code",
   "execution_count": null,
   "id": "f15623e9",
   "metadata": {},
   "outputs": [],
   "source": []
  }
 ],
 "metadata": {
  "kernelspec": {
   "display_name": "Python 3 (ipykernel)",
   "language": "python",
   "name": "python3"
  },
  "language_info": {
   "codemirror_mode": {
    "name": "ipython",
    "version": 3
   },
   "file_extension": ".py",
   "mimetype": "text/x-python",
   "name": "python",
   "nbconvert_exporter": "python",
   "pygments_lexer": "ipython3",
   "version": "3.7.11"
  }
 },
 "nbformat": 4,
 "nbformat_minor": 5
}
